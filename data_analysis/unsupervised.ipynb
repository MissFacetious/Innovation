{
 "nbformat": 4,
 "nbformat_minor": 2,
 "metadata": {
  "language_info": {
   "name": "python",
   "codemirror_mode": {
    "name": "ipython",
    "version": 3
   },
   "version": "3.7.5-final"
  },
  "orig_nbformat": 2,
  "file_extension": ".py",
  "mimetype": "text/x-python",
  "name": "python",
  "npconvert_exporter": "python",
  "pygments_lexer": "ipython3",
  "version": 3,
  "kernelspec": {
   "name": "python3",
   "display_name": "Python 3"
  }
 },
 "cells": [
  {
   "cell_type": "markdown",
   "metadata": {},
   "source": [
    "## Unsupervised Classification Analysis\n",
    "### Marc Boulet\n",
    "### Team Transparency, CSE 6242 Spring 2020\n",
    "\n",
    "\n",
    "This notebook will take Team Transparency's merged dataset of country features and attempt to rank countries through unsupervised methods:\n",
    "- k-means clustering  \n",
    "- hierarchical clustering  \n",
    "- DBSCAN  \n",
    "- PCA of grouped attributes"
   ]
  },
  {
   "cell_type": "code",
   "execution_count": 37,
   "metadata": {},
   "outputs": [],
   "source": [
    "# libraries\n",
    "import pandas as pd\n",
    "import numpy as np\n",
    "import matplotlib.pyplot as plt\n",
    "import matplotlib.gridspec as gridspec\n",
    "# from sklearn.cluster import KMeans\n",
    "# from sklearn import metrics\n",
    "# from sklearn.cluster import DBSCAN\n",
    "# from sklearn.cluster import AgglomerativeClustering\n",
    "# from scipy.cluster.hierarchy import linkage, dendrogram"
   ]
  },
  {
   "cell_type": "code",
   "execution_count": 104,
   "metadata": {},
   "outputs": [
    {
     "output_type": "execute_result",
     "data": {
      "text/plain": "   year  gii_human_capital country_iso  gii_domestic_credit  \\\n0  1960                NaN         ABW                  NaN   \n1  1961                NaN         ABW                  NaN   \n2  1962                NaN         ABW                  NaN   \n3  1963                NaN         ABW                  NaN   \n4  1964                NaN         ABW                  NaN   \n\n   mobile_subscriptions  broadband_subscriptions_per100  \\\n0                   0.0                             NaN   \n1                   NaN                             NaN   \n2                   NaN                             NaN   \n3                   NaN                             NaN   \n4                   NaN                             NaN   \n\n   gii_ict_services_imports  diversity_ethnicFractionalization  \\\n0                       NaN                                NaN   \n1                       NaN                                NaN   \n2                       NaN                                NaN   \n3                       NaN                                NaN   \n4                       NaN                                NaN   \n\n   diversity_linguisticFractionalization  \\\n0                                    NaN   \n1                                    NaN   \n2                                    NaN   \n3                                    NaN   \n4                                    NaN   \n\n   diversity_religiousFractionalization  ...  gii_wikipedia_edits  \\\n0                                   NaN  ...                  NaN   \n1                                   NaN  ...                  NaN   \n2                                   NaN  ...                  NaN   \n3                                   NaN  ...                  NaN   \n4                                   NaN  ...                  NaN   \n\n   gii_ict_access  gii_stem_assessment poverty_ratio  foreign_investment  \\\n0             NaN                  NaN           NaN                 NaN   \n1             NaN                  NaN           NaN                 NaN   \n2             NaN                  NaN           NaN                 NaN   \n3             NaN                  NaN           NaN                 NaN   \n4             NaN                  NaN           NaN                 NaN   \n\n   total_hospital_density_per_100k  gii_university_industry  \\\n0                              NaN                      NaN   \n1                              NaN                      NaN   \n2                              NaN                      NaN   \n3                              NaN                      NaN   \n4                              NaN                      NaN   \n\n   gii_innovation_output  gdp_per_capta_usd  global_innovation_index  \n0                    NaN                NaN                      NaN  \n1                    NaN                NaN                      NaN  \n2                    NaN                NaN                      NaN  \n3                    NaN                NaN                      NaN  \n4                    NaN                NaN                      NaN  \n\n[5 rows x 49 columns]",
      "text/html": "<div>\n<style scoped>\n    .dataframe tbody tr th:only-of-type {\n        vertical-align: middle;\n    }\n\n    .dataframe tbody tr th {\n        vertical-align: top;\n    }\n\n    .dataframe thead th {\n        text-align: right;\n    }\n</style>\n<table border=\"1\" class=\"dataframe\">\n  <thead>\n    <tr style=\"text-align: right;\">\n      <th></th>\n      <th>year</th>\n      <th>gii_human_capital</th>\n      <th>country_iso</th>\n      <th>gii_domestic_credit</th>\n      <th>mobile_subscriptions</th>\n      <th>broadband_subscriptions_per100</th>\n      <th>gii_ict_services_imports</th>\n      <th>diversity_ethnicFractionalization</th>\n      <th>diversity_linguisticFractionalization</th>\n      <th>diversity_religiousFractionalization</th>\n      <th>...</th>\n      <th>gii_wikipedia_edits</th>\n      <th>gii_ict_access</th>\n      <th>gii_stem_assessment</th>\n      <th>poverty_ratio</th>\n      <th>foreign_investment</th>\n      <th>total_hospital_density_per_100k</th>\n      <th>gii_university_industry</th>\n      <th>gii_innovation_output</th>\n      <th>gdp_per_capta_usd</th>\n      <th>global_innovation_index</th>\n    </tr>\n  </thead>\n  <tbody>\n    <tr>\n      <td>0</td>\n      <td>1960</td>\n      <td>NaN</td>\n      <td>ABW</td>\n      <td>NaN</td>\n      <td>0.0</td>\n      <td>NaN</td>\n      <td>NaN</td>\n      <td>NaN</td>\n      <td>NaN</td>\n      <td>NaN</td>\n      <td>...</td>\n      <td>NaN</td>\n      <td>NaN</td>\n      <td>NaN</td>\n      <td>NaN</td>\n      <td>NaN</td>\n      <td>NaN</td>\n      <td>NaN</td>\n      <td>NaN</td>\n      <td>NaN</td>\n      <td>NaN</td>\n    </tr>\n    <tr>\n      <td>1</td>\n      <td>1961</td>\n      <td>NaN</td>\n      <td>ABW</td>\n      <td>NaN</td>\n      <td>NaN</td>\n      <td>NaN</td>\n      <td>NaN</td>\n      <td>NaN</td>\n      <td>NaN</td>\n      <td>NaN</td>\n      <td>...</td>\n      <td>NaN</td>\n      <td>NaN</td>\n      <td>NaN</td>\n      <td>NaN</td>\n      <td>NaN</td>\n      <td>NaN</td>\n      <td>NaN</td>\n      <td>NaN</td>\n      <td>NaN</td>\n      <td>NaN</td>\n    </tr>\n    <tr>\n      <td>2</td>\n      <td>1962</td>\n      <td>NaN</td>\n      <td>ABW</td>\n      <td>NaN</td>\n      <td>NaN</td>\n      <td>NaN</td>\n      <td>NaN</td>\n      <td>NaN</td>\n      <td>NaN</td>\n      <td>NaN</td>\n      <td>...</td>\n      <td>NaN</td>\n      <td>NaN</td>\n      <td>NaN</td>\n      <td>NaN</td>\n      <td>NaN</td>\n      <td>NaN</td>\n      <td>NaN</td>\n      <td>NaN</td>\n      <td>NaN</td>\n      <td>NaN</td>\n    </tr>\n    <tr>\n      <td>3</td>\n      <td>1963</td>\n      <td>NaN</td>\n      <td>ABW</td>\n      <td>NaN</td>\n      <td>NaN</td>\n      <td>NaN</td>\n      <td>NaN</td>\n      <td>NaN</td>\n      <td>NaN</td>\n      <td>NaN</td>\n      <td>...</td>\n      <td>NaN</td>\n      <td>NaN</td>\n      <td>NaN</td>\n      <td>NaN</td>\n      <td>NaN</td>\n      <td>NaN</td>\n      <td>NaN</td>\n      <td>NaN</td>\n      <td>NaN</td>\n      <td>NaN</td>\n    </tr>\n    <tr>\n      <td>4</td>\n      <td>1964</td>\n      <td>NaN</td>\n      <td>ABW</td>\n      <td>NaN</td>\n      <td>NaN</td>\n      <td>NaN</td>\n      <td>NaN</td>\n      <td>NaN</td>\n      <td>NaN</td>\n      <td>NaN</td>\n      <td>...</td>\n      <td>NaN</td>\n      <td>NaN</td>\n      <td>NaN</td>\n      <td>NaN</td>\n      <td>NaN</td>\n      <td>NaN</td>\n      <td>NaN</td>\n      <td>NaN</td>\n      <td>NaN</td>\n      <td>NaN</td>\n    </tr>\n  </tbody>\n</table>\n<p>5 rows × 49 columns</p>\n</div>"
     },
     "metadata": {},
     "execution_count": 104
    }
   ],
   "source": [
    "# load data\n",
    "merged = pd.read_csv('../data/converted/merged.csv')\n",
    "df = merged.copy()\n",
    "df.head()"
   ]
  },
  {
   "cell_type": "markdown",
   "metadata": {},
   "source": [
    "### Data conditioning  "
   ]
  },
  {
   "cell_type": "code",
   "execution_count": 105,
   "metadata": {},
   "outputs": [],
   "source": [
    "# remove all years prior to 2000\n",
    "#df.drop(df[df.year < 2000].index, inplace = True)"
   ]
  },
  {
   "cell_type": "code",
   "execution_count": 106,
   "metadata": {},
   "outputs": [],
   "source": [
    "# calculate feature mean over all years (want to include outlier effects) \n",
    "df_mean = df.groupby('country_iso', as_index=False).mean()\n",
    "# remove year column\n",
    "df_mean.drop(['year'], axis =1, inplace = True)"
   ]
  },
  {
   "cell_type": "code",
   "execution_count": 111,
   "metadata": {},
   "outputs": [],
   "source": [
    "# impute nulls with median feature value\n",
    "df_mean.fillna(df_mean.median(axis = 0), inplace = True)"
   ]
  },
  {
   "cell_type": "code",
   "execution_count": 114,
   "metadata": {},
   "outputs": [],
   "source": [
    "# number of nulls per country\n",
    "#df_mean.isnull().sum(axis=0)"
   ]
  },
  {
   "cell_type": "code",
   "execution_count": 103,
   "metadata": {},
   "outputs": [],
   "source": [
    "# Write to .csv file\n",
    "df_mean.to_csv('../data/converted/df_mean.csv',index=False)"
   ]
  },
  {
   "cell_type": "markdown",
   "metadata": {},
   "source": [
    "### k-means clustering"
   ]
  },
  {
   "cell_type": "code",
   "execution_count": null,
   "metadata": {},
   "outputs": [],
   "source": []
  },
  {
   "cell_type": "markdown",
   "metadata": {},
   "source": [
    "### divide features into cultural and non-cultural factors"
   ]
  },
  {
   "cell_type": "code",
   "execution_count": 91,
   "metadata": {},
   "outputs": [
    {
     "output_type": "execute_result",
     "data": {
      "text/plain": "(271, 28)"
     },
     "metadata": {},
     "execution_count": 91
    }
   ],
   "source": [
    "non_cultural = df_mean[['country_iso',\n",
    "                        'gii_domestic_credit',\n",
    "                        'mobile_subscriptions',\n",
    "                        'broadband_subscriptions_per100',\n",
    "                        'gii_ict_services_imports',\n",
    "                        'diversity_ethnicFractionalization',\n",
    "                        'diversity_linguisticFractionalization',\n",
    "                        'diversity_religiousFractionalization',\n",
    "                        'literacy_rate',\n",
    "                        'electrification',\n",
    "                        'rural_population',\n",
    "                        'school_enrollment_tertiary',\n",
    "                        'gii_rule_of_law',\n",
    "                        'population',\n",
    "                        'mortality_rate',\n",
    "                        'secure_internet_servers',\n",
    "                        'gii_institutions',\n",
    "                        'gii_top_level_domains',\n",
    "                        'gii_research_talent_in_business',\n",
    "                        'life_expectancy',\n",
    "                        'ease_of_business',\n",
    "                        'gii_ict_access',\n",
    "                        'gii_stem_assessment',\n",
    "                        'poverty_ratio',\n",
    "                        'foreign_investment',\n",
    "                        'total_hospital_density_per_100k',\n",
    "                        'gii_university_industry',\n",
    "                        'gdp_per_capta_usd', \n",
    "                        ]]\n",
    "non_cultural.shape"
   ]
  },
  {
   "cell_type": "code",
   "execution_count": 92,
   "metadata": {},
   "outputs": [
    {
     "output_type": "execute_result",
     "data": {
      "text/plain": "(271, 20)"
     },
     "metadata": {},
     "execution_count": 92
    }
   ],
   "source": [
    "cultural = df_mean[['country_iso',\n",
    "                    'gii_human_capital',\n",
    "                    'gii_scientific_publications',\n",
    "                    'rd_in_gdp',\n",
    "                    'creative_svc_audiovisual',\n",
    "                    'creative_svc_other_personal_cultural_recreational',\n",
    "                    'creative_svc_advertising_mktresearch_polling',\n",
    "                    'creative_svc_architectural_engineering_technical',\n",
    "                    'creative_svc_personal_cultural_recreational',\n",
    "                    'creative_svc_research',\n",
    "                    'gii_creative_services', \n",
    "                    'gii_patent_applications',\n",
    "                    'feature_films_produced',\n",
    "                    'gii_patent_families',\n",
    "                    'gii_mobile_apps',\n",
    "                    'cultural_occupation',\n",
    "                    'gii_creative_goods',\n",
    "                    'gii_wikipedia_edits',\n",
    "                    'gii_innovation_output',\n",
    "                    'global_innovation_index'\n",
    "                    ]]\n",
    "cultural.shape"
   ]
  },
  {
   "cell_type": "code",
   "execution_count": null,
   "metadata": {},
   "outputs": [],
   "source": [
    "noncu"
   ]
  }
 ]
}