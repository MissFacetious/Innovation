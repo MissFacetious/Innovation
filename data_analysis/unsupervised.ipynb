{
 "nbformat": 4,
 "nbformat_minor": 2,
 "metadata": {
  "language_info": {
   "name": "python",
   "codemirror_mode": {
    "name": "ipython",
    "version": 3
   }
  },
  "orig_nbformat": 2,
  "file_extension": ".py",
  "mimetype": "text/x-python",
  "name": "python",
  "npconvert_exporter": "python",
  "pygments_lexer": "ipython3",
  "version": 3
 },
 "cells": [
  {
   "cell_type": "markdown",
   "metadata": {},
   "source": [
    "### Unsupervised Classification Analysis\n",
    "### Team Transparency, CSE 6242 Spring 2020\n",
    "#### Marc Boulet\n",
    "\n",
    "This notebook will take the merged dataset of country features and attempt to rank them through unsupervised methods (k-means clustering, hierarchical clustering, k-nearest neighbours, DBSCAN, PCA of grouped attributes, etc)."
   ]
  },
  {
   "cell_type": "code",
   "execution_count": null,
   "metadata": {},
   "outputs": [],
   "source": [
    "import pandas as pd\n",
    "import difflib\n",
    "pd.set_option('display.max_rows', 300)\n",
    "pd.set_option('display.max_columns', 100)"
   ]
  }
 ]
}