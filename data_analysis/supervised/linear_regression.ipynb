{
 "cells": [
  {
   "cell_type": "code",
   "execution_count": 283,
   "metadata": {},
   "outputs": [],
   "source": [
    "import pandas as pd\n",
    "import numpy as np\n",
    "from sklearn.model_selection import train_test_split\n",
    "from sklearn.ensemble import RandomForestRegressor\n",
    "from sklearn.metrics import mean_absolute_error, median_absolute_error, r2_score\n",
    "import seaborn as sns\n",
    "from scipy import stats\n",
    "from sklearn.linear_model import LinearRegression, Lasso, ElasticNet, ElasticNetCV\n",
    "from sklearn.feature_selection import RFE\n",
    "from scipy.stats import mannwhitneyu"
   ]
  },
  {
   "cell_type": "code",
   "execution_count": 68,
   "metadata": {},
   "outputs": [],
   "source": [
    "merged = pd.read_csv('../../data/converted/merged.csv')\n",
    "df = merged.copy()\n",
    "# remove all data prior to 2000 - considering up to 19 years of data before the gii score\n",
    "df.drop(df[df.year < 2000].index, inplace = True)"
   ]
  },
  {
   "cell_type": "code",
   "execution_count": 69,
   "metadata": {},
   "outputs": [],
   "source": [
    "# calculate feature mean over all years available (using mean to include outlier effects) \n",
    "df_mean = df.groupby('country_iso', as_index=False).mean()\n",
    "# remove year column\n",
    "df_mean.drop(['year'], axis = 1, inplace = True)"
   ]
  },
  {
   "cell_type": "code",
   "execution_count": 70,
   "metadata": {},
   "outputs": [],
   "source": [
    "df_gii = df_mean.dropna(subset=['gii_innovation_output'])"
   ]
  },
  {
   "cell_type": "code",
   "execution_count": 77,
   "metadata": {},
   "outputs": [],
   "source": [
    "df_creative = df_gii[['country_iso',\n",
    "                    'gii_human_capital',\n",
    "                    'gii_scientific_publications',\n",
    "                    'rd_in_gdp',\n",
    "                    'creative_svc_audiovisual',\n",
    "                    'creative_svc_other_personal_cultural_recreational',\n",
    "                    'creative_svc_advertising_mktresearch_polling',\n",
    "                    'creative_svc_architectural_engineering_technical',\n",
    "                    'creative_svc_personal_cultural_recreational',\n",
    "                    'creative_svc_research',\n",
    "                    'gii_creative_services', \n",
    "                    'gii_patent_applications',\n",
    "                    'feature_films_produced',\n",
    "                    'gii_patent_families',\n",
    "                    'gii_mobile_apps',\n",
    "                    'cultural_occupation',\n",
    "                    'gii_creative_goods',\n",
    "                    'gii_wikipedia_edits',\n",
    "                    'gii_innovation_output',\n",
    "                    ]]"
   ]
  },
  {
   "cell_type": "code",
   "execution_count": 86,
   "metadata": {},
   "outputs": [
    {
     "data": {
      "text/plain": [
       "Index(['creative_svc_audiovisual',\n",
       "       'creative_svc_other_personal_cultural_recreational',\n",
       "       'creative_svc_advertising_mktresearch_polling',\n",
       "       'creative_svc_architectural_engineering_technical',\n",
       "       'creative_svc_personal_cultural_recreational', 'creative_svc_research'],\n",
       "      dtype='object')"
      ]
     },
     "execution_count": 86,
     "metadata": {},
     "output_type": "execute_result"
    }
   ],
   "source": [
    "creative_svc = df_creative.columns.str.contains('creative_svc')\n",
    "df_creative.columns[creative_svc]"
   ]
  },
  {
   "cell_type": "code",
   "execution_count": 87,
   "metadata": {},
   "outputs": [],
   "source": [
    "df_clean = df_creative.dropna(subset=df_creative.columns[creative_svc])"
   ]
  },
  {
   "cell_type": "code",
   "execution_count": 143,
   "metadata": {},
   "outputs": [],
   "source": [
    "df_predict = df_gii[df_gii.columns[(df_gii.count()/df_gii.index.size)>=0.95].values]"
   ]
  },
  {
   "cell_type": "code",
   "execution_count": 144,
   "metadata": {},
   "outputs": [
    {
     "data": {
      "text/plain": [
       "country_iso                              129\n",
       "gii_human_capital                        129\n",
       "gii_domestic_credit                      126\n",
       "mobile_subscriptions                     129\n",
       "broadband_subscriptions_per100           129\n",
       "gii_ict_services_imports                 128\n",
       "diversity_ethnicFractionalization        127\n",
       "diversity_linguisticFractionalization    127\n",
       "diversity_religiousFractionalization     127\n",
       "electrification                          129\n",
       "gii_scientific_publications              128\n",
       "rural_population                         126\n",
       "school_enrollment_tertiary               123\n",
       "gii_rule_of_law                          129\n",
       "population                               129\n",
       "mortality_rate                           128\n",
       "secure_internet_servers                  129\n",
       "gii_institutions                         129\n",
       "gii_top_level_domains                    129\n",
       "gii_patent_applications                  126\n",
       "gii_patent_families                      123\n",
       "gii_creative_goods                       128\n",
       "life_expectancy                          129\n",
       "ease_of_business                         129\n",
       "gii_wikipedia_edits                      127\n",
       "gii_ict_access                           126\n",
       "foreign_investment                       129\n",
       "gii_university_industry                  125\n",
       "gii_innovation_output                    129\n",
       "gdp_per_capta_usd                        129\n",
       "global_innovation_index                  129\n",
       "dtype: int64"
      ]
     },
     "execution_count": 144,
     "metadata": {},
     "output_type": "execute_result"
    }
   ],
   "source": [
    "df_predict.count()"
   ]
  },
  {
   "cell_type": "code",
   "execution_count": 145,
   "metadata": {},
   "outputs": [],
   "source": [
    "df_predict = df_predict.fillna(df_predict.median(axis = 0))"
   ]
  },
  {
   "cell_type": "code",
   "execution_count": 146,
   "metadata": {},
   "outputs": [
    {
     "data": {
      "text/plain": [
       "country_iso                              129\n",
       "gii_human_capital                        129\n",
       "gii_domestic_credit                      129\n",
       "mobile_subscriptions                     129\n",
       "broadband_subscriptions_per100           129\n",
       "gii_ict_services_imports                 129\n",
       "diversity_ethnicFractionalization        129\n",
       "diversity_linguisticFractionalization    129\n",
       "diversity_religiousFractionalization     129\n",
       "electrification                          129\n",
       "gii_scientific_publications              129\n",
       "rural_population                         129\n",
       "school_enrollment_tertiary               129\n",
       "gii_rule_of_law                          129\n",
       "population                               129\n",
       "mortality_rate                           129\n",
       "secure_internet_servers                  129\n",
       "gii_institutions                         129\n",
       "gii_top_level_domains                    129\n",
       "gii_patent_applications                  129\n",
       "gii_patent_families                      129\n",
       "gii_creative_goods                       129\n",
       "life_expectancy                          129\n",
       "ease_of_business                         129\n",
       "gii_wikipedia_edits                      129\n",
       "gii_ict_access                           129\n",
       "foreign_investment                       129\n",
       "gii_university_industry                  129\n",
       "gii_innovation_output                    129\n",
       "gdp_per_capta_usd                        129\n",
       "global_innovation_index                  129\n",
       "dtype: int64"
      ]
     },
     "execution_count": 146,
     "metadata": {},
     "output_type": "execute_result"
    }
   ],
   "source": [
    "df_predict.count()"
   ]
  },
  {
   "cell_type": "code",
   "execution_count": 147,
   "metadata": {},
   "outputs": [],
   "source": [
    "target = df_predict[['gii_innovation_output']]\n",
    "df_predict.drop(columns=['gii_innovation_output', 'global_innovation_index', 'country_iso'], inplace=True)"
   ]
  },
  {
   "cell_type": "code",
   "execution_count": 148,
   "metadata": {},
   "outputs": [],
   "source": [
    "X_train, X_test, y_train, y_test = train_test_split(df_predict, target, test_size=0.25, random_state=42)"
   ]
  },
  {
   "cell_type": "code",
   "execution_count": 149,
   "metadata": {},
   "outputs": [
    {
     "name": "stderr",
     "output_type": "stream",
     "text": [
      "/Users/ricardostamato/miniconda3/envs/ml/lib/python3.7/site-packages/sklearn/ensemble/forest.py:245: FutureWarning: The default value of n_estimators will change from 10 in version 0.20 to 100 in 0.22.\n",
      "  \"10 in version 0.20 to 100 in 0.22.\", FutureWarning)\n",
      "/Users/ricardostamato/miniconda3/envs/ml/lib/python3.7/site-packages/ipykernel_launcher.py:2: DataConversionWarning: A column-vector y was passed when a 1d array was expected. Please change the shape of y to (n_samples,), for example using ravel().\n",
      "  \n"
     ]
    },
    {
     "data": {
      "text/plain": [
       "RandomForestRegressor(bootstrap=True, criterion='mse', max_depth=2,\n",
       "                      max_features='auto', max_leaf_nodes=None,\n",
       "                      min_impurity_decrease=0.0, min_impurity_split=None,\n",
       "                      min_samples_leaf=1, min_samples_split=2,\n",
       "                      min_weight_fraction_leaf=0.0, n_estimators=10,\n",
       "                      n_jobs=None, oob_score=False, random_state=0, verbose=0,\n",
       "                      warm_start=False)"
      ]
     },
     "execution_count": 149,
     "metadata": {},
     "output_type": "execute_result"
    }
   ],
   "source": [
    "clf = RandomForestRegressor(max_depth=2, random_state=0)\n",
    "clf.fit(X_train, y_train)"
   ]
  },
  {
   "cell_type": "code",
   "execution_count": 150,
   "metadata": {},
   "outputs": [],
   "source": [
    "y_predict = clf.predict(X_test)"
   ]
  },
  {
   "cell_type": "code",
   "execution_count": 151,
   "metadata": {},
   "outputs": [
    {
     "data": {
      "text/plain": [
       "4.327769150842988"
      ]
     },
     "execution_count": 151,
     "metadata": {},
     "output_type": "execute_result"
    }
   ],
   "source": [
    "mean_absolute_error(y_test, y_predict)"
   ]
  },
  {
   "cell_type": "code",
   "execution_count": 154,
   "metadata": {},
   "outputs": [
    {
     "data": {
      "text/plain": [
       "count    129.000000\n",
       "mean      27.278295\n",
       "std       12.683121\n",
       "min        6.400000\n",
       "25%       17.700000\n",
       "50%       23.500000\n",
       "75%       35.600000\n",
       "max       63.500000\n",
       "Name: gii_innovation_output, dtype: float64"
      ]
     },
     "execution_count": 154,
     "metadata": {},
     "output_type": "execute_result"
    }
   ],
   "source": [
    "target['gii_innovation_output'].describe()"
   ]
  },
  {
   "cell_type": "code",
   "execution_count": 155,
   "metadata": {},
   "outputs": [],
   "source": [
    "y_predict_insample = clf.predict(X_train)"
   ]
  },
  {
   "cell_type": "code",
   "execution_count": 156,
   "metadata": {},
   "outputs": [
    {
     "data": {
      "text/plain": [
       "3.5440551313355235"
      ]
     },
     "execution_count": 156,
     "metadata": {},
     "output_type": "execute_result"
    }
   ],
   "source": [
    "mean_absolute_error(y_train, y_predict_insample)"
   ]
  },
  {
   "cell_type": "code",
   "execution_count": 158,
   "metadata": {},
   "outputs": [
    {
     "data": {
      "text/plain": [
       "3.2027055569947356"
      ]
     },
     "execution_count": 158,
     "metadata": {},
     "output_type": "execute_result"
    }
   ],
   "source": [
    "median_absolute_error(y_train, y_predict_insample)"
   ]
  },
  {
   "cell_type": "code",
   "execution_count": 159,
   "metadata": {},
   "outputs": [
    {
     "data": {
      "text/plain": [
       "3.9441501370984895"
      ]
     },
     "execution_count": 159,
     "metadata": {},
     "output_type": "execute_result"
    }
   ],
   "source": [
    "median_absolute_error(y_test, y_predict)"
   ]
  },
  {
   "cell_type": "code",
   "execution_count": 163,
   "metadata": {},
   "outputs": [
    {
     "data": {
      "text/plain": [
       "0.8744593939458895"
      ]
     },
     "execution_count": 163,
     "metadata": {},
     "output_type": "execute_result"
    }
   ],
   "source": [
    "r2_score(y_train, y_predict_insample)"
   ]
  },
  {
   "cell_type": "code",
   "execution_count": 174,
   "metadata": {},
   "outputs": [],
   "source": [
    "features = pd.Series(clf.feature_importances_, df_predict.columns)"
   ]
  },
  {
   "cell_type": "code",
   "execution_count": 176,
   "metadata": {},
   "outputs": [
    {
     "data": {
      "text/plain": [
       "gii_patent_families                      0.480469\n",
       "broadband_subscriptions_per100           0.331990\n",
       "secure_internet_servers                  0.061532\n",
       "gii_university_industry                  0.046316\n",
       "gii_human_capital                        0.028398\n",
       "gii_wikipedia_edits                      0.017147\n",
       "gii_patent_applications                  0.014874\n",
       "mobile_subscriptions                     0.010941\n",
       "gii_creative_goods                       0.008333\n",
       "gii_ict_services_imports                 0.000000\n",
       "rural_population                         0.000000\n",
       "diversity_ethnicFractionalization        0.000000\n",
       "diversity_linguisticFractionalization    0.000000\n",
       "diversity_religiousFractionalization     0.000000\n",
       "gii_domestic_credit                      0.000000\n",
       "electrification                          0.000000\n",
       "gii_scientific_publications              0.000000\n",
       "gdp_per_capta_usd                        0.000000\n",
       "school_enrollment_tertiary               0.000000\n",
       "gii_rule_of_law                          0.000000\n",
       "mortality_rate                           0.000000\n",
       "gii_institutions                         0.000000\n",
       "gii_top_level_domains                    0.000000\n",
       "life_expectancy                          0.000000\n",
       "ease_of_business                         0.000000\n",
       "gii_ict_access                           0.000000\n",
       "foreign_investment                       0.000000\n",
       "population                               0.000000\n",
       "dtype: float64"
      ]
     },
     "execution_count": 176,
     "metadata": {},
     "output_type": "execute_result"
    }
   ],
   "source": [
    "features.sort_values(ascending=False)"
   ]
  },
  {
   "cell_type": "code",
   "execution_count": 235,
   "metadata": {},
   "outputs": [
    {
     "data": {
      "text/plain": [
       "Lasso(alpha=1.0, copy_X=True, fit_intercept=True, max_iter=1000,\n",
       "      normalize=False, positive=False, precompute=False, random_state=None,\n",
       "      selection='cyclic', tol=0.0001, warm_start=False)"
      ]
     },
     "execution_count": 235,
     "metadata": {},
     "output_type": "execute_result"
    }
   ],
   "source": [
    "from sklearn.preprocessing import StandardScaler\n",
    "linear = Lasso()\n",
    "scaler = StandardScaler()\n",
    "X_train_scaled = scaler.fit_transform(X_train)\n",
    "\n",
    "linear.fit(X_train_scaled, y_train)"
   ]
  },
  {
   "cell_type": "code",
   "execution_count": 236,
   "metadata": {},
   "outputs": [],
   "source": [
    "y_predict_insample = linear.predict(scaler.transform(X_train))"
   ]
  },
  {
   "cell_type": "code",
   "execution_count": 237,
   "metadata": {},
   "outputs": [
    {
     "data": {
      "text/plain": [
       "2.5651159352986284"
      ]
     },
     "execution_count": 237,
     "metadata": {},
     "output_type": "execute_result"
    }
   ],
   "source": [
    "median_absolute_error(y_train, y_predict_insample)"
   ]
  },
  {
   "cell_type": "code",
   "execution_count": 238,
   "metadata": {},
   "outputs": [
    {
     "data": {
      "text/plain": [
       "4.184744461907044"
      ]
     },
     "execution_count": 238,
     "metadata": {},
     "output_type": "execute_result"
    }
   ],
   "source": [
    "y_predict = linear.predict(scaler.transform(X_test))\n",
    "median_absolute_error(y_test, y_predict)"
   ]
  },
  {
   "cell_type": "code",
   "execution_count": 239,
   "metadata": {},
   "outputs": [],
   "source": [
    "features = pd.Series(linear.coef_, df_predict.columns)"
   ]
  },
  {
   "cell_type": "code",
   "execution_count": 240,
   "metadata": {},
   "outputs": [
    {
     "data": {
      "text/plain": [
       "gii_human_capital                        2.040268\n",
       "secure_internet_servers                  1.645089\n",
       "gii_creative_goods                       1.627713\n",
       "gii_scientific_publications              1.449664\n",
       "broadband_subscriptions_per100           1.301935\n",
       "gii_university_industry                  1.275459\n",
       "gii_top_level_domains                    1.110268\n",
       "gii_wikipedia_edits                      1.050898\n",
       "gii_patent_applications                  1.027994\n",
       "gii_rule_of_law                          0.626620\n",
       "electrification                          0.553245\n",
       "gii_patent_families                      0.385486\n",
       "population                               0.310550\n",
       "gii_ict_services_imports                 0.173078\n",
       "gii_domestic_credit                      0.151501\n",
       "mortality_rate                          -0.000000\n",
       "gii_institutions                         0.000000\n",
       "life_expectancy                          0.000000\n",
       "school_enrollment_tertiary               0.000000\n",
       "rural_population                        -0.000000\n",
       "gii_ict_access                           0.000000\n",
       "diversity_religiousFractionalization     0.000000\n",
       "diversity_linguisticFractionalization   -0.000000\n",
       "diversity_ethnicFractionalization       -0.000000\n",
       "foreign_investment                       0.000000\n",
       "mobile_subscriptions                     0.000000\n",
       "gdp_per_capta_usd                        0.000000\n",
       "ease_of_business                        -0.272319\n",
       "dtype: float64"
      ]
     },
     "execution_count": 240,
     "metadata": {},
     "output_type": "execute_result"
    }
   ],
   "source": [
    "features.sort_values(ascending=False)"
   ]
  },
  {
   "cell_type": "code",
   "execution_count": 241,
   "metadata": {},
   "outputs": [
    {
     "data": {
      "text/plain": [
       "119"
      ]
     },
     "execution_count": 241,
     "metadata": {},
     "output_type": "execute_result"
    }
   ],
   "source": [
    "linear.n_iter_"
   ]
  },
  {
   "cell_type": "code",
   "execution_count": 246,
   "metadata": {},
   "outputs": [
    {
     "name": "stdout",
     "output_type": "stream",
     "text": [
      "[False False False  True  True  True  True False False False False False\n",
      "  True False False False False False False False  True False False False\n",
      " False False  True False]\n",
      "[ 9 16 17  1  1  1  1 15  5  4 13 18  1 22 11 19  8 14  6  2  1 12 20 10\n",
      "  3  7  1 21]\n"
     ]
    },
    {
     "name": "stderr",
     "output_type": "stream",
     "text": [
      "/Users/ricardostamato/miniconda3/envs/ml/lib/python3.7/site-packages/sklearn/utils/validation.py:724: DataConversionWarning: A column-vector y was passed when a 1d array was expected. Please change the shape of y to (n_samples, ), for example using ravel().\n",
      "  y = column_or_1d(y, warn=True)\n"
     ]
    }
   ],
   "source": [
    "X = df_predict\n",
    "y = target\n",
    "model = LinearRegression()\n",
    "#Initializing RFE model\n",
    "rfe = RFE(model, 7)\n",
    "#Transforming data using RFE\n",
    "X_rfe = rfe.fit_transform(X,y)  \n",
    "#Fitting the data to model\n",
    "model.fit(X_rfe,y)\n",
    "print(rfe.support_)\n",
    "print(rfe.ranking_)"
   ]
  },
  {
   "cell_type": "code",
   "execution_count": 247,
   "metadata": {},
   "outputs": [
    {
     "name": "stdout",
     "output_type": "stream",
     "text": [
      "Optimum number of features: 8\n",
      "Score with 8 features: 0.797479\n"
     ]
    },
    {
     "name": "stderr",
     "output_type": "stream",
     "text": [
      "/Users/ricardostamato/miniconda3/envs/ml/lib/python3.7/site-packages/sklearn/utils/validation.py:724: DataConversionWarning: A column-vector y was passed when a 1d array was expected. Please change the shape of y to (n_samples, ), for example using ravel().\n",
      "  y = column_or_1d(y, warn=True)\n",
      "/Users/ricardostamato/miniconda3/envs/ml/lib/python3.7/site-packages/sklearn/utils/validation.py:724: DataConversionWarning: A column-vector y was passed when a 1d array was expected. Please change the shape of y to (n_samples, ), for example using ravel().\n",
      "  y = column_or_1d(y, warn=True)\n",
      "/Users/ricardostamato/miniconda3/envs/ml/lib/python3.7/site-packages/sklearn/utils/validation.py:724: DataConversionWarning: A column-vector y was passed when a 1d array was expected. Please change the shape of y to (n_samples, ), for example using ravel().\n",
      "  y = column_or_1d(y, warn=True)\n",
      "/Users/ricardostamato/miniconda3/envs/ml/lib/python3.7/site-packages/sklearn/utils/validation.py:724: DataConversionWarning: A column-vector y was passed when a 1d array was expected. Please change the shape of y to (n_samples, ), for example using ravel().\n",
      "  y = column_or_1d(y, warn=True)\n",
      "/Users/ricardostamato/miniconda3/envs/ml/lib/python3.7/site-packages/sklearn/utils/validation.py:724: DataConversionWarning: A column-vector y was passed when a 1d array was expected. Please change the shape of y to (n_samples, ), for example using ravel().\n",
      "  y = column_or_1d(y, warn=True)\n",
      "/Users/ricardostamato/miniconda3/envs/ml/lib/python3.7/site-packages/sklearn/utils/validation.py:724: DataConversionWarning: A column-vector y was passed when a 1d array was expected. Please change the shape of y to (n_samples, ), for example using ravel().\n",
      "  y = column_or_1d(y, warn=True)\n",
      "/Users/ricardostamato/miniconda3/envs/ml/lib/python3.7/site-packages/sklearn/utils/validation.py:724: DataConversionWarning: A column-vector y was passed when a 1d array was expected. Please change the shape of y to (n_samples, ), for example using ravel().\n",
      "  y = column_or_1d(y, warn=True)\n",
      "/Users/ricardostamato/miniconda3/envs/ml/lib/python3.7/site-packages/sklearn/utils/validation.py:724: DataConversionWarning: A column-vector y was passed when a 1d array was expected. Please change the shape of y to (n_samples, ), for example using ravel().\n",
      "  y = column_or_1d(y, warn=True)\n",
      "/Users/ricardostamato/miniconda3/envs/ml/lib/python3.7/site-packages/sklearn/utils/validation.py:724: DataConversionWarning: A column-vector y was passed when a 1d array was expected. Please change the shape of y to (n_samples, ), for example using ravel().\n",
      "  y = column_or_1d(y, warn=True)\n",
      "/Users/ricardostamato/miniconda3/envs/ml/lib/python3.7/site-packages/sklearn/utils/validation.py:724: DataConversionWarning: A column-vector y was passed when a 1d array was expected. Please change the shape of y to (n_samples, ), for example using ravel().\n",
      "  y = column_or_1d(y, warn=True)\n",
      "/Users/ricardostamato/miniconda3/envs/ml/lib/python3.7/site-packages/sklearn/utils/validation.py:724: DataConversionWarning: A column-vector y was passed when a 1d array was expected. Please change the shape of y to (n_samples, ), for example using ravel().\n",
      "  y = column_or_1d(y, warn=True)\n",
      "/Users/ricardostamato/miniconda3/envs/ml/lib/python3.7/site-packages/sklearn/utils/validation.py:724: DataConversionWarning: A column-vector y was passed when a 1d array was expected. Please change the shape of y to (n_samples, ), for example using ravel().\n",
      "  y = column_or_1d(y, warn=True)\n"
     ]
    }
   ],
   "source": [
    "#no of features\n",
    "nof_list=np.arange(1,13)            \n",
    "high_score=0\n",
    "#Variable to store the optimum features\n",
    "nof=0           \n",
    "score_list =[]\n",
    "for n in range(len(nof_list)):\n",
    "    X_train, X_test, y_train, y_test = train_test_split(X,y, test_size = 0.3, random_state = 0)\n",
    "    model = LinearRegression()\n",
    "    rfe = RFE(model,nof_list[n])\n",
    "    X_train_rfe = rfe.fit_transform(X_train,y_train)\n",
    "    X_test_rfe = rfe.transform(X_test)\n",
    "    model.fit(X_train_rfe,y_train)\n",
    "    score = model.score(X_test_rfe,y_test)\n",
    "    score_list.append(score)\n",
    "    if(score>high_score):\n",
    "        high_score = score\n",
    "        nof = nof_list[n]\n",
    "print(\"Optimum number of features: %d\" %nof)\n",
    "print(\"Score with %d features: %f\" % (nof, high_score))"
   ]
  },
  {
   "cell_type": "code",
   "execution_count": 248,
   "metadata": {},
   "outputs": [
    {
     "name": "stdout",
     "output_type": "stream",
     "text": [
      "Index(['broadband_subscriptions_per100', 'gii_ict_services_imports',\n",
      "       'diversity_ethnicFractionalization',\n",
      "       'diversity_linguisticFractionalization', 'gii_rule_of_law',\n",
      "       'gii_patent_families', 'gii_creative_goods', 'gii_university_industry'],\n",
      "      dtype='object')\n"
     ]
    },
    {
     "name": "stderr",
     "output_type": "stream",
     "text": [
      "/Users/ricardostamato/miniconda3/envs/ml/lib/python3.7/site-packages/sklearn/utils/validation.py:724: DataConversionWarning: A column-vector y was passed when a 1d array was expected. Please change the shape of y to (n_samples, ), for example using ravel().\n",
      "  y = column_or_1d(y, warn=True)\n"
     ]
    }
   ],
   "source": [
    "cols = list(X.columns)\n",
    "model = LinearRegression()\n",
    "#Initializing RFE model\n",
    "rfe = RFE(model, 8)             \n",
    "#Transforming data using RFE\n",
    "X_rfe = rfe.fit_transform(X,y)  \n",
    "#Fitting the data to model\n",
    "model.fit(X_rfe,y)              \n",
    "temp = pd.Series(rfe.support_,index = cols)\n",
    "selected_features_rfe = temp[temp==True].index\n",
    "print(selected_features_rfe)"
   ]
  },
  {
   "cell_type": "code",
   "execution_count": 249,
   "metadata": {},
   "outputs": [
    {
     "data": {
      "text/plain": [
       "array([[ 0.64250925,  0.96005721, -4.17234294,  2.90313337,  1.68583918,\n",
       "         0.61572189,  1.19037247,  2.15837899]])"
      ]
     },
     "execution_count": 249,
     "metadata": {},
     "output_type": "execute_result"
    }
   ],
   "source": [
    "model.coef_"
   ]
  },
  {
   "cell_type": "code",
   "execution_count": 250,
   "metadata": {},
   "outputs": [
    {
     "data": {
      "text/plain": [
       "array([False, False, False,  True,  True,  True,  True, False, False,\n",
       "       False, False, False,  True, False, False, False, False, False,\n",
       "       False,  True,  True, False, False, False, False, False,  True,\n",
       "       False])"
      ]
     },
     "execution_count": 250,
     "metadata": {},
     "output_type": "execute_result"
    }
   ],
   "source": [
    "rfe.support_"
   ]
  },
  {
   "cell_type": "code",
   "execution_count": 255,
   "metadata": {},
   "outputs": [],
   "source": [
    "predict = model.predict(X[selected_features_rfe])"
   ]
  },
  {
   "cell_type": "code",
   "execution_count": 257,
   "metadata": {},
   "outputs": [
    {
     "data": {
      "text/plain": [
       "2.9186681280471625"
      ]
     },
     "execution_count": 257,
     "metadata": {},
     "output_type": "execute_result"
    }
   ],
   "source": [
    "median_absolute_error(y, predict)"
   ]
  },
  {
   "cell_type": "code",
   "execution_count": 275,
   "metadata": {},
   "outputs": [],
   "source": [
    "df_prediction = df_gii[['country_iso', 'gii_innovation_output']]"
   ]
  },
  {
   "cell_type": "code",
   "execution_count": 278,
   "metadata": {},
   "outputs": [
    {
     "name": "stderr",
     "output_type": "stream",
     "text": [
      "/Users/ricardostamato/miniconda3/envs/ml/lib/python3.7/site-packages/pandas/core/generic.py:5208: SettingWithCopyWarning: \n",
      "A value is trying to be set on a copy of a slice from a DataFrame.\n",
      "Try using .loc[row_indexer,col_indexer] = value instead\n",
      "\n",
      "See the caveats in the documentation: http://pandas.pydata.org/pandas-docs/stable/user_guide/indexing.html#returning-a-view-versus-a-copy\n",
      "  self[name] = value\n"
     ]
    }
   ],
   "source": [
    "df_prediction.prediction = predict"
   ]
  },
  {
   "cell_type": "code",
   "execution_count": 280,
   "metadata": {},
   "outputs": [
    {
     "data": {
      "text/html": [
       "<div>\n",
       "<style scoped>\n",
       "    .dataframe tbody tr th:only-of-type {\n",
       "        vertical-align: middle;\n",
       "    }\n",
       "\n",
       "    .dataframe tbody tr th {\n",
       "        vertical-align: top;\n",
       "    }\n",
       "\n",
       "    .dataframe thead th {\n",
       "        text-align: right;\n",
       "    }\n",
       "</style>\n",
       "<table border=\"1\" class=\"dataframe\">\n",
       "  <thead>\n",
       "    <tr style=\"text-align: right;\">\n",
       "      <th></th>\n",
       "      <th>country_iso</th>\n",
       "      <th>gii_innovation_output</th>\n",
       "      <th>prediction</th>\n",
       "    </tr>\n",
       "  </thead>\n",
       "  <tbody>\n",
       "    <tr>\n",
       "      <td>3</td>\n",
       "      <td>ALB</td>\n",
       "      <td>18.3</td>\n",
       "      <td>21.008432</td>\n",
       "    </tr>\n",
       "    <tr>\n",
       "      <td>7</td>\n",
       "      <td>ARE</td>\n",
       "      <td>26.7</td>\n",
       "      <td>31.228595</td>\n",
       "    </tr>\n",
       "    <tr>\n",
       "      <td>8</td>\n",
       "      <td>ARG</td>\n",
       "      <td>21.6</td>\n",
       "      <td>23.478069</td>\n",
       "    </tr>\n",
       "    <tr>\n",
       "      <td>9</td>\n",
       "      <td>ARM</td>\n",
       "      <td>28.6</td>\n",
       "      <td>20.765648</td>\n",
       "    </tr>\n",
       "    <tr>\n",
       "      <td>12</td>\n",
       "      <td>AUS</td>\n",
       "      <td>36.3</td>\n",
       "      <td>37.625650</td>\n",
       "    </tr>\n",
       "    <tr>\n",
       "      <td>...</td>\n",
       "      <td>...</td>\n",
       "      <td>...</td>\n",
       "      <td>...</td>\n",
       "    </tr>\n",
       "    <tr>\n",
       "      <td>261</td>\n",
       "      <td>VNM</td>\n",
       "      <td>33.9</td>\n",
       "      <td>27.027742</td>\n",
       "    </tr>\n",
       "    <tr>\n",
       "      <td>266</td>\n",
       "      <td>YEM</td>\n",
       "      <td>6.4</td>\n",
       "      <td>12.623476</td>\n",
       "    </tr>\n",
       "    <tr>\n",
       "      <td>267</td>\n",
       "      <td>ZAF</td>\n",
       "      <td>22.3</td>\n",
       "      <td>21.693349</td>\n",
       "    </tr>\n",
       "    <tr>\n",
       "      <td>268</td>\n",
       "      <td>ZMB</td>\n",
       "      <td>12.7</td>\n",
       "      <td>15.822434</td>\n",
       "    </tr>\n",
       "    <tr>\n",
       "      <td>269</td>\n",
       "      <td>ZWE</td>\n",
       "      <td>15.4</td>\n",
       "      <td>14.546491</td>\n",
       "    </tr>\n",
       "  </tbody>\n",
       "</table>\n",
       "<p>129 rows × 3 columns</p>\n",
       "</div>"
      ],
      "text/plain": [
       "    country_iso  gii_innovation_output  prediction\n",
       "3           ALB                   18.3   21.008432\n",
       "7           ARE                   26.7   31.228595\n",
       "8           ARG                   21.6   23.478069\n",
       "9           ARM                   28.6   20.765648\n",
       "12          AUS                   36.3   37.625650\n",
       "..          ...                    ...         ...\n",
       "261         VNM                   33.9   27.027742\n",
       "266         YEM                    6.4   12.623476\n",
       "267         ZAF                   22.3   21.693349\n",
       "268         ZMB                   12.7   15.822434\n",
       "269         ZWE                   15.4   14.546491\n",
       "\n",
       "[129 rows x 3 columns]"
      ]
     },
     "execution_count": 280,
     "metadata": {},
     "output_type": "execute_result"
    }
   ],
   "source": [
    "df_prediction"
   ]
  },
  {
   "cell_type": "code",
   "execution_count": 282,
   "metadata": {},
   "outputs": [
    {
     "data": {
      "text/plain": [
       "2.9186681280471625"
      ]
     },
     "execution_count": 282,
     "metadata": {},
     "output_type": "execute_result"
    }
   ],
   "source": [
    "median_absolute_error(df_prediction.gii_innovation_output, df_prediction.prediction)"
   ]
  },
  {
   "cell_type": "code",
   "execution_count": 288,
   "metadata": {},
   "outputs": [],
   "source": [
    "df_prediction = df_prediction.set_index('country_iso')"
   ]
  },
  {
   "cell_type": "code",
   "execution_count": 293,
   "metadata": {},
   "outputs": [],
   "source": [
    "predict_rank = df_prediction.sort_values('prediction', ascending=False).index\n",
    "orig_rank = df_prediction.sort_values('gii_innovation_output', ascending=False).index"
   ]
  },
  {
   "cell_type": "code",
   "execution_count": 301,
   "metadata": {},
   "outputs": [
    {
     "data": {
      "text/plain": [
       "MannwhitneyuResult(statistic=8320.5, pvalue=0.499667155919561)"
      ]
     },
     "execution_count": 301,
     "metadata": {},
     "output_type": "execute_result"
    }
   ],
   "source": [
    "mannwhitneyu(orig_rank, predict_rank)"
   ]
  },
  {
   "cell_type": "code",
   "execution_count": 302,
   "metadata": {},
   "outputs": [
    {
     "data": {
      "text/html": [
       "<div>\n",
       "<style scoped>\n",
       "    .dataframe tbody tr th:only-of-type {\n",
       "        vertical-align: middle;\n",
       "    }\n",
       "\n",
       "    .dataframe tbody tr th {\n",
       "        vertical-align: top;\n",
       "    }\n",
       "\n",
       "    .dataframe thead th {\n",
       "        text-align: right;\n",
       "    }\n",
       "</style>\n",
       "<table border=\"1\" class=\"dataframe\">\n",
       "  <thead>\n",
       "    <tr style=\"text-align: right;\">\n",
       "      <th></th>\n",
       "      <th>gii_innovation_output</th>\n",
       "      <th>prediction</th>\n",
       "    </tr>\n",
       "    <tr>\n",
       "      <th>country_iso</th>\n",
       "      <th></th>\n",
       "      <th></th>\n",
       "    </tr>\n",
       "  </thead>\n",
       "  <tbody>\n",
       "    <tr>\n",
       "      <td>ALB</td>\n",
       "      <td>18.3</td>\n",
       "      <td>21.008432</td>\n",
       "    </tr>\n",
       "    <tr>\n",
       "      <td>ARE</td>\n",
       "      <td>26.7</td>\n",
       "      <td>31.228595</td>\n",
       "    </tr>\n",
       "    <tr>\n",
       "      <td>ARG</td>\n",
       "      <td>21.6</td>\n",
       "      <td>23.478069</td>\n",
       "    </tr>\n",
       "    <tr>\n",
       "      <td>ARM</td>\n",
       "      <td>28.6</td>\n",
       "      <td>20.765648</td>\n",
       "    </tr>\n",
       "    <tr>\n",
       "      <td>AUS</td>\n",
       "      <td>36.3</td>\n",
       "      <td>37.625650</td>\n",
       "    </tr>\n",
       "    <tr>\n",
       "      <td>...</td>\n",
       "      <td>...</td>\n",
       "      <td>...</td>\n",
       "    </tr>\n",
       "    <tr>\n",
       "      <td>VNM</td>\n",
       "      <td>33.9</td>\n",
       "      <td>27.027742</td>\n",
       "    </tr>\n",
       "    <tr>\n",
       "      <td>YEM</td>\n",
       "      <td>6.4</td>\n",
       "      <td>12.623476</td>\n",
       "    </tr>\n",
       "    <tr>\n",
       "      <td>ZAF</td>\n",
       "      <td>22.3</td>\n",
       "      <td>21.693349</td>\n",
       "    </tr>\n",
       "    <tr>\n",
       "      <td>ZMB</td>\n",
       "      <td>12.7</td>\n",
       "      <td>15.822434</td>\n",
       "    </tr>\n",
       "    <tr>\n",
       "      <td>ZWE</td>\n",
       "      <td>15.4</td>\n",
       "      <td>14.546491</td>\n",
       "    </tr>\n",
       "  </tbody>\n",
       "</table>\n",
       "<p>129 rows × 2 columns</p>\n",
       "</div>"
      ],
      "text/plain": [
       "             gii_innovation_output  prediction\n",
       "country_iso                                   \n",
       "ALB                           18.3   21.008432\n",
       "ARE                           26.7   31.228595\n",
       "ARG                           21.6   23.478069\n",
       "ARM                           28.6   20.765648\n",
       "AUS                           36.3   37.625650\n",
       "...                            ...         ...\n",
       "VNM                           33.9   27.027742\n",
       "YEM                            6.4   12.623476\n",
       "ZAF                           22.3   21.693349\n",
       "ZMB                           12.7   15.822434\n",
       "ZWE                           15.4   14.546491\n",
       "\n",
       "[129 rows x 2 columns]"
      ]
     },
     "execution_count": 302,
     "metadata": {},
     "output_type": "execute_result"
    }
   ],
   "source": [
    "df_prediction.to_csv(')"
   ]
  },
  {
   "cell_type": "code",
   "execution_count": 303,
   "metadata": {},
   "outputs": [],
   "source": [
    "df_prediction.to_csv('linear_regression.csv')"
   ]
  },
  {
   "cell_type": "code",
   "execution_count": null,
   "metadata": {},
   "outputs": [],
   "source": []
  }
 ],
 "metadata": {
  "kernelspec": {
   "display_name": "Python 3",
   "language": "python",
   "name": "python3"
  },
  "language_info": {
   "codemirror_mode": {
    "name": "ipython",
    "version": 3
   },
   "file_extension": ".py",
   "mimetype": "text/x-python",
   "name": "python",
   "nbconvert_exporter": "python",
   "pygments_lexer": "ipython3",
   "version": "3.7.6"
  }
 },
 "nbformat": 4,
 "nbformat_minor": 4
}
