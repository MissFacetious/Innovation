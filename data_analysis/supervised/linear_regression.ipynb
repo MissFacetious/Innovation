{
 "cells": [
  {
   "cell_type": "markdown",
   "metadata": {},
   "source": [
    "# Predicting global innovation index using regression models"
   ]
  },
  {
   "cell_type": "markdown",
   "metadata": {},
   "source": [
    "## Data loading and preparation"
   ]
  },
  {
   "cell_type": "code",
   "execution_count": 1,
   "metadata": {},
   "outputs": [],
   "source": [
    "import pandas as pd\n",
    "import numpy as np\n",
    "from sklearn.model_selection import train_test_split\n",
    "from sklearn.ensemble import RandomForestRegressor\n",
    "from sklearn.metrics import mean_absolute_error, median_absolute_error, r2_score\n",
    "from sklearn.feature_selection import f_regression\n",
    "import seaborn as sns\n",
    "from scipy import stats\n",
    "from sklearn.linear_model import LinearRegression, Lasso, ElasticNet, ElasticNetCV\n",
    "from sklearn.feature_selection import RFE\n",
    "from scipy.stats import mannwhitneyu\n",
    "from sklearn.preprocessing import StandardScaler"
   ]
  },
  {
   "cell_type": "code",
   "execution_count": 2,
   "metadata": {},
   "outputs": [],
   "source": [
    "merged = pd.read_csv('../../data/converted/merged.csv')"
   ]
  },
  {
   "cell_type": "markdown",
   "metadata": {},
   "source": [
    "Including the global happiness index into the merged dataset"
   ]
  },
  {
   "cell_type": "code",
   "execution_count": 3,
   "metadata": {},
   "outputs": [],
   "source": [
    "# including happiness index\n",
    "happy = pd.read_csv('../../data/converted/happiness_index.csv')\n",
    "happy['year'] = 2019\n",
    "merged = merged.merge(happy, on=['country_iso', 'year'], how='outer', sort=True)"
   ]
  },
  {
   "cell_type": "code",
   "execution_count": 4,
   "metadata": {},
   "outputs": [
    {
     "data": {
      "text/plain": [
       "0                                                  year\n",
       "1                                     gii_human_capital\n",
       "2                                           country_iso\n",
       "3                                   gii_domestic_credit\n",
       "4                                  mobile_subscriptions\n",
       "5                        broadband_subscriptions_per100\n",
       "6                              gii_ict_services_imports\n",
       "7                     diversity_ethnicFractionalization\n",
       "8                 diversity_linguisticFractionalization\n",
       "9                  diversity_religiousFractionalization\n",
       "10                                        literacy_rate\n",
       "11                                      electrification\n",
       "12                          gii_scientific_publications\n",
       "13                                          book_titles\n",
       "14                                            rd_in_gdp\n",
       "15                             creative_svc_audiovisual\n",
       "16    creative_svc_other_personal_cultural_recreational\n",
       "17         creative_svc_advertising_mktresearch_polling\n",
       "18     creative_svc_architectural_engineering_technical\n",
       "19          creative_svc_personal_cultural_recreational\n",
       "20                                creative_svc_research\n",
       "21                                     rural_population\n",
       "22                           school_enrollment_tertiary\n",
       "23                                gii_creative_services\n",
       "24                                      gii_rule_of_law\n",
       "25                                           population\n",
       "26                                       mortality_rate\n",
       "27                              secure_internet_servers\n",
       "28                                     gii_institutions\n",
       "29                                gii_top_level_domains\n",
       "30                              gii_patent_applications\n",
       "31                               feature_films_produced\n",
       "32                                  gii_patent_families\n",
       "33                                      gii_mobile_apps\n",
       "34                      gii_research_talent_in_business\n",
       "35                                  cultural_occupation\n",
       "36                                   gii_creative_goods\n",
       "37                                      life_expectancy\n",
       "38                                     ease_of_business\n",
       "39                                  gii_wikipedia_edits\n",
       "40                                       gii_ict_access\n",
       "41                                  gii_stem_assessment\n",
       "42                                        poverty_ratio\n",
       "43                                   foreign_investment\n",
       "44                      total_hospital_density_per_100k\n",
       "45                              gii_university_industry\n",
       "46                                gii_innovation_output\n",
       "47                                    gdp_per_capta_usd\n",
       "48                              global_innovation_index\n",
       "49                                      happiness_index\n",
       "dtype: object"
      ]
     },
     "execution_count": 4,
     "metadata": {},
     "output_type": "execute_result"
    }
   ],
   "source": [
    "pd.Series(merged.columns)"
   ]
  },
  {
   "cell_type": "code",
   "execution_count": 5,
   "metadata": {},
   "outputs": [],
   "source": [
    "df = merged.copy()"
   ]
  },
  {
   "cell_type": "markdown",
   "metadata": {},
   "source": [
    "The merged dataset has data for many years. We will only consider data from 2015 to now. For each country and feature, we will consider the last value available."
   ]
  },
  {
   "cell_type": "code",
   "execution_count": 6,
   "metadata": {},
   "outputs": [],
   "source": [
    "df.drop(df[df.year < 2015].index, inplace = True)"
   ]
  },
  {
   "cell_type": "code",
   "execution_count": 7,
   "metadata": {},
   "outputs": [],
   "source": [
    "df_last = df.groupby('country_iso', as_index=False).last()"
   ]
  },
  {
   "cell_type": "code",
   "execution_count": 8,
   "metadata": {},
   "outputs": [],
   "source": [
    "# calculate feature mean over all years available (using mean to include outlier effects) \n",
    "#df_mean = df.groupby('country_iso', as_index=False).mean()\n",
    "# remove year column\n",
    "df_last.drop(['year'], axis = 1, inplace = True)"
   ]
  },
  {
   "cell_type": "markdown",
   "metadata": {},
   "source": [
    "We have to limit the prediction to the set of countries for which we have the global index available."
   ]
  },
  {
   "cell_type": "code",
   "execution_count": 9,
   "metadata": {},
   "outputs": [],
   "source": [
    "df_last.dropna(subset=['gii_innovation_output'], inplace=True)"
   ]
  },
  {
   "cell_type": "code",
   "execution_count": 10,
   "metadata": {},
   "outputs": [
    {
     "data": {
      "text/plain": [
       "country_iso                                          129\n",
       "gii_human_capital                                    129\n",
       "gii_domestic_credit                                  126\n",
       "mobile_subscriptions                                 129\n",
       "broadband_subscriptions_per100                       129\n",
       "gii_ict_services_imports                             128\n",
       "diversity_ethnicFractionalization                    127\n",
       "diversity_linguisticFractionalization                127\n",
       "diversity_religiousFractionalization                 127\n",
       "literacy_rate                                         78\n",
       "electrification                                      129\n",
       "gii_scientific_publications                          128\n",
       "book_titles                                           13\n",
       "rd_in_gdp                                             99\n",
       "creative_svc_audiovisual                               0\n",
       "creative_svc_other_personal_cultural_recreational      0\n",
       "creative_svc_advertising_mktresearch_polling           0\n",
       "creative_svc_architectural_engineering_technical       0\n",
       "creative_svc_personal_cultural_recreational            0\n",
       "creative_svc_research                                  0\n",
       "rural_population                                     126\n",
       "school_enrollment_tertiary                           111\n",
       "gii_creative_services                                119\n",
       "gii_rule_of_law                                      129\n",
       "population                                           129\n",
       "mortality_rate                                       128\n",
       "secure_internet_servers                              129\n",
       "gii_institutions                                     129\n",
       "gii_top_level_domains                                129\n",
       "gii_patent_applications                              126\n",
       "feature_films_produced                                94\n",
       "gii_patent_families                                  123\n",
       "gii_mobile_apps                                       98\n",
       "gii_research_talent_in_business                       86\n",
       "cultural_occupation                                   45\n",
       "gii_creative_goods                                   128\n",
       "life_expectancy                                      129\n",
       "ease_of_business                                     129\n",
       "gii_wikipedia_edits                                  127\n",
       "gii_ict_access                                       126\n",
       "gii_stem_assessment                                   71\n",
       "poverty_ratio                                         83\n",
       "foreign_investment                                   129\n",
       "total_hospital_density_per_100k                        0\n",
       "gii_university_industry                              125\n",
       "gii_innovation_output                                129\n",
       "gdp_per_capta_usd                                    129\n",
       "global_innovation_index                              129\n",
       "happiness_index                                      119\n",
       "dtype: int64"
      ]
     },
     "execution_count": 10,
     "metadata": {},
     "output_type": "execute_result"
    }
   ],
   "source": [
    "df_last.count()"
   ]
  },
  {
   "cell_type": "markdown",
   "metadata": {},
   "source": [
    "Some of the features do not have enough data. We will limit our analysis to the features that have values for most of the countries of the global index. "
   ]
  },
  {
   "cell_type": "code",
   "execution_count": 11,
   "metadata": {},
   "outputs": [
    {
     "data": {
      "text/plain": [
       "country_iso                              129\n",
       "gii_human_capital                        129\n",
       "gii_domestic_credit                      126\n",
       "mobile_subscriptions                     129\n",
       "broadband_subscriptions_per100           129\n",
       "gii_ict_services_imports                 128\n",
       "diversity_ethnicFractionalization        127\n",
       "diversity_linguisticFractionalization    127\n",
       "diversity_religiousFractionalization     127\n",
       "electrification                          129\n",
       "gii_scientific_publications              128\n",
       "rd_in_gdp                                 99\n",
       "rural_population                         126\n",
       "school_enrollment_tertiary               111\n",
       "gii_creative_services                    119\n",
       "gii_rule_of_law                          129\n",
       "population                               129\n",
       "mortality_rate                           128\n",
       "secure_internet_servers                  129\n",
       "gii_institutions                         129\n",
       "gii_top_level_domains                    129\n",
       "gii_patent_applications                  126\n",
       "feature_films_produced                    94\n",
       "gii_patent_families                      123\n",
       "gii_mobile_apps                           98\n",
       "gii_research_talent_in_business           86\n",
       "gii_creative_goods                       128\n",
       "life_expectancy                          129\n",
       "ease_of_business                         129\n",
       "gii_wikipedia_edits                      127\n",
       "gii_ict_access                           126\n",
       "foreign_investment                       129\n",
       "gii_university_industry                  125\n",
       "gii_innovation_output                    129\n",
       "gdp_per_capta_usd                        129\n",
       "global_innovation_index                  129\n",
       "happiness_index                          119\n",
       "dtype: int64"
      ]
     },
     "execution_count": 11,
     "metadata": {},
     "output_type": "execute_result"
    }
   ],
   "source": [
    "to_drop = df_last.columns[df_last.columns.str.contains('creative_svc_')].values\n",
    "to_drop = np.append(to_drop,['book_titles', 'total_hospital_density_per_100k', 'cultural_occupation', 'literacy_rate', 'gii_stem_assessment', 'poverty_ratio'])\n",
    "df_subset = df_last.drop(columns=to_drop)\n",
    "df_subset.count()"
   ]
  },
  {
   "cell_type": "code",
   "execution_count": 12,
   "metadata": {},
   "outputs": [
    {
     "data": {
      "text/plain": [
       "country_iso                              51\n",
       "gii_human_capital                        51\n",
       "gii_domestic_credit                      51\n",
       "mobile_subscriptions                     51\n",
       "broadband_subscriptions_per100           51\n",
       "gii_ict_services_imports                 51\n",
       "diversity_ethnicFractionalization        51\n",
       "diversity_linguisticFractionalization    51\n",
       "diversity_religiousFractionalization     51\n",
       "electrification                          51\n",
       "gii_scientific_publications              51\n",
       "rd_in_gdp                                51\n",
       "rural_population                         51\n",
       "school_enrollment_tertiary               51\n",
       "gii_creative_services                    51\n",
       "gii_rule_of_law                          51\n",
       "population                               51\n",
       "mortality_rate                           51\n",
       "secure_internet_servers                  51\n",
       "gii_institutions                         51\n",
       "gii_top_level_domains                    51\n",
       "gii_patent_applications                  51\n",
       "feature_films_produced                   51\n",
       "gii_patent_families                      51\n",
       "gii_mobile_apps                          51\n",
       "gii_research_talent_in_business          51\n",
       "gii_creative_goods                       51\n",
       "life_expectancy                          51\n",
       "ease_of_business                         51\n",
       "gii_wikipedia_edits                      51\n",
       "gii_ict_access                           51\n",
       "foreign_investment                       51\n",
       "gii_university_industry                  51\n",
       "gii_innovation_output                    51\n",
       "gdp_per_capta_usd                        51\n",
       "global_innovation_index                  51\n",
       "happiness_index                          51\n",
       "dtype: int64"
      ]
     },
     "execution_count": 12,
     "metadata": {},
     "output_type": "execute_result"
    }
   ],
   "source": [
    "df_sample = df_subset.dropna(axis=0)\n",
    "df_sample.count()"
   ]
  },
  {
   "cell_type": "markdown",
   "metadata": {},
   "source": [
    "We are restricting our analysis to a sample of 51 countries, from a universe of 129 (number of countries covered by the Global Innovation Index). This should be enough to prove that the regression model is accurate."
   ]
  },
  {
   "cell_type": "code",
   "execution_count": 13,
   "metadata": {},
   "outputs": [],
   "source": [
    "target = df_sample[['gii_innovation_output']]\n",
    "feats = df_sample.drop(columns=['gii_innovation_output', 'global_innovation_index', 'country_iso'])"
   ]
  },
  {
   "cell_type": "code",
   "execution_count": 14,
   "metadata": {},
   "outputs": [],
   "source": [
    "X_train, X_test, y_train, y_test = train_test_split(feats, target, test_size=0.20, random_state=42)"
   ]
  },
  {
   "cell_type": "code",
   "execution_count": 15,
   "metadata": {},
   "outputs": [],
   "source": [
    "scaler = StandardScaler()\n",
    "feats_scaled = scaler.fit_transform(feats)\n",
    "X_train = scaler.transform(X_train)\n",
    "X_test = scaler.transform(X_test)"
   ]
  },
  {
   "cell_type": "markdown",
   "metadata": {},
   "source": [
    "## Regression Models"
   ]
  },
  {
   "cell_type": "code",
   "execution_count": 16,
   "metadata": {},
   "outputs": [],
   "source": [
    "models = ['random_forest', 'lr', 'lr_lasso', 'lr_rfe']\n",
    "results = pd.DataFrame(data={'mae': [0,0,0,0], 'r2_score': [0,0,0,0]}, index=models)"
   ]
  },
  {
   "cell_type": "markdown",
   "metadata": {},
   "source": [
    "### Random Forest"
   ]
  },
  {
   "cell_type": "code",
   "execution_count": 17,
   "metadata": {},
   "outputs": [
    {
     "name": "stderr",
     "output_type": "stream",
     "text": [
      "/Users/ricardostamato/miniconda3/envs/ml/lib/python3.7/site-packages/ipykernel_launcher.py:2: DataConversionWarning: A column-vector y was passed when a 1d array was expected. Please change the shape of y to (n_samples,), for example using ravel().\n",
      "  \n"
     ]
    },
    {
     "data": {
      "text/plain": [
       "RandomForestRegressor(bootstrap=True, ccp_alpha=0.0, criterion='mse',\n",
       "                      max_depth=5, max_features='auto', max_leaf_nodes=None,\n",
       "                      max_samples=None, min_impurity_decrease=0.0,\n",
       "                      min_impurity_split=None, min_samples_leaf=1,\n",
       "                      min_samples_split=2, min_weight_fraction_leaf=0.0,\n",
       "                      n_estimators=100, n_jobs=None, oob_score=False,\n",
       "                      random_state=0, verbose=0, warm_start=False)"
      ]
     },
     "execution_count": 17,
     "metadata": {},
     "output_type": "execute_result"
    }
   ],
   "source": [
    "rf_model = RandomForestRegressor(max_depth=5, random_state=0)\n",
    "rf_model.fit(X_train, y_train)"
   ]
  },
  {
   "cell_type": "code",
   "execution_count": 18,
   "metadata": {},
   "outputs": [],
   "source": [
    "y_predict = rf_model.predict(X_test)"
   ]
  },
  {
   "cell_type": "code",
   "execution_count": 19,
   "metadata": {},
   "outputs": [
    {
     "data": {
      "text/plain": [
       "3.9479629378197556"
      ]
     },
     "execution_count": 19,
     "metadata": {},
     "output_type": "execute_result"
    }
   ],
   "source": [
    "mean_absolute_error(y_test, y_predict)"
   ]
  },
  {
   "cell_type": "code",
   "execution_count": 20,
   "metadata": {},
   "outputs": [],
   "source": [
    "y_predict_insample = rf_model.predict(X_train)"
   ]
  },
  {
   "cell_type": "code",
   "execution_count": 21,
   "metadata": {},
   "outputs": [
    {
     "data": {
      "text/plain": [
       "1.3839143795093805"
      ]
     },
     "execution_count": 21,
     "metadata": {},
     "output_type": "execute_result"
    }
   ],
   "source": [
    "mean_absolute_error(y_train, y_predict_insample)"
   ]
  },
  {
   "cell_type": "code",
   "execution_count": 22,
   "metadata": {},
   "outputs": [
    {
     "data": {
      "text/plain": [
       "0.7113936488603474"
      ]
     },
     "execution_count": 22,
     "metadata": {},
     "output_type": "execute_result"
    }
   ],
   "source": [
    "r2_score(y_test, y_predict)"
   ]
  },
  {
   "cell_type": "code",
   "execution_count": 23,
   "metadata": {},
   "outputs": [
    {
     "data": {
      "text/plain": [
       "0.9792582834648293"
      ]
     },
     "execution_count": 23,
     "metadata": {},
     "output_type": "execute_result"
    }
   ],
   "source": [
    "r2_score(y_train, y_predict_insample)"
   ]
  },
  {
   "cell_type": "code",
   "execution_count": 24,
   "metadata": {},
   "outputs": [],
   "source": [
    "results.loc['random_forest', 'mae'] = mean_absolute_error(y_test, y_predict)\n",
    "results.loc['random_forest', 'r2_score'] = r2_score(y_test, y_predict)"
   ]
  },
  {
   "cell_type": "markdown",
   "metadata": {},
   "source": [
    "### Linear Regression"
   ]
  },
  {
   "cell_type": "code",
   "execution_count": 25,
   "metadata": {},
   "outputs": [
    {
     "data": {
      "text/plain": [
       "5.615887401977311"
      ]
     },
     "execution_count": 25,
     "metadata": {},
     "output_type": "execute_result"
    }
   ],
   "source": [
    "linear = LinearRegression()\n",
    "linear.fit(X_train, y_train)\n",
    "y_predict = linear.predict(X_test)\n",
    "mean_absolute_error(y_test, y_predict)"
   ]
  },
  {
   "cell_type": "code",
   "execution_count": 26,
   "metadata": {},
   "outputs": [
    {
     "data": {
      "text/plain": [
       "0.32088624705436275"
      ]
     },
     "execution_count": 26,
     "metadata": {},
     "output_type": "execute_result"
    }
   ],
   "source": [
    "r2_score(y_test, y_predict)"
   ]
  },
  {
   "cell_type": "code",
   "execution_count": 27,
   "metadata": {},
   "outputs": [
    {
     "data": {
      "text/plain": [
       "gii_human_capital                            11.200000\n",
       "gii_domestic_credit                          16.100000\n",
       "mobile_subscriptions                         86.942563\n",
       "broadband_subscriptions_per100                1.022782\n",
       "gii_ict_services_imports                      0.000000\n",
       "diversity_ethnicFractionalization             0.039400\n",
       "diversity_linguisticFractionalization         0.000000\n",
       "diversity_religiousFractionalization          0.000000\n",
       "electrification                              84.400000\n",
       "gii_scientific_publications                   0.600000\n",
       "rd_in_gdp                                     0.118230\n",
       "rural_population                              0.865000\n",
       "school_enrollment_tertiary                   13.134280\n",
       "gii_creative_services                         0.000000\n",
       "gii_rule_of_law                               0.000000\n",
       "population                               353574.000000\n",
       "mortality_rate                                1.400000\n",
       "secure_internet_servers                      35.113531\n",
       "gii_institutions                             47.900000\n",
       "gii_top_level_domains                         1.400000\n",
       "gii_patent_applications                       0.000000\n",
       "feature_films_produced                        1.000000\n",
       "gii_patent_families                           0.000000\n",
       "gii_mobile_apps                               0.000000\n",
       "gii_research_talent_in_business               0.500000\n",
       "gii_creative_goods                            0.000000\n",
       "life_expectancy                              63.538000\n",
       "ease_of_business                              1.000000\n",
       "gii_wikipedia_edits                           1.000000\n",
       "gii_ict_access                                3.800000\n",
       "foreign_investment                            0.000000\n",
       "gii_university_industry                       2.500000\n",
       "gdp_per_capta_usd                          1512.126710\n",
       "happiness_index                               3.462000\n",
       "Name: min, dtype: float64"
      ]
     },
     "execution_count": 27,
     "metadata": {},
     "output_type": "execute_result"
    }
   ],
   "source": [
    "feats_nonneg = feats.copy()\n",
    "feats_nonneg['foreign_investment'] = feats_nonneg['foreign_investment'] + abs(feats_nonneg['foreign_investment'].min())\n",
    "feats_nonneg['gii_rule_of_law'] = feats_nonneg['gii_rule_of_law'] + abs(feats_nonneg['gii_rule_of_law'].min())\n",
    "feats_nonneg.describe().loc['min',:]"
   ]
  },
  {
   "cell_type": "code",
   "execution_count": 28,
   "metadata": {},
   "outputs": [
    {
     "name": "stderr",
     "output_type": "stream",
     "text": [
      "/Users/ricardostamato/miniconda3/envs/ml/lib/python3.7/site-packages/sklearn/utils/validation.py:760: DataConversionWarning: A column-vector y was passed when a 1d array was expected. Please change the shape of y to (n_samples, ), for example using ravel().\n",
      "  y = column_or_1d(y, warn=True)\n"
     ]
    }
   ],
   "source": [
    "scores, pvalues = f_regression(feats, target)"
   ]
  },
  {
   "cell_type": "code",
   "execution_count": 29,
   "metadata": {},
   "outputs": [
    {
     "data": {
      "text/plain": [
       "array([7.88841617e+01, 1.48626046e+01, 2.99926000e-01, 8.47694998e+01,\n",
       "       1.24447188e+01, 5.11513675e+00, 3.79504214e-01, 4.37034269e+00,\n",
       "       4.40614730e+00, 2.34256782e+01, 6.96906777e+01, 6.63041969e+00,\n",
       "       5.90481611e+00, 9.51048843e+00, 1.05971798e+02, 7.65418621e-01,\n",
       "       3.05520906e+01, 5.05753472e+01, 1.17565369e+02, 5.42842172e+01,\n",
       "       8.63372112e+01, 1.62834091e-03, 1.29283281e+02, 1.54493855e+00,\n",
       "       8.49489812e+01, 4.87580887e-01, 3.54425886e+01, 3.59326092e+01,\n",
       "       4.25822703e+01, 5.18558356e+01, 1.63536320e+00, 5.63183778e+01,\n",
       "       5.66323777e+01, 4.56192572e+01])"
      ]
     },
     "execution_count": 29,
     "metadata": {},
     "output_type": "execute_result"
    }
   ],
   "source": [
    "scores"
   ]
  },
  {
   "cell_type": "code",
   "execution_count": 30,
   "metadata": {},
   "outputs": [],
   "source": [
    "results.loc['lr', 'mae'] = mean_absolute_error(y_test, y_predict)\n",
    "results.loc['lr', 'r2_score'] = r2_score(y_test, y_predict)"
   ]
  },
  {
   "cell_type": "markdown",
   "metadata": {},
   "source": [
    "### Linear Regression using Lasso"
   ]
  },
  {
   "cell_type": "code",
   "execution_count": 31,
   "metadata": {},
   "outputs": [
    {
     "data": {
      "text/plain": [
       "3.1641820308820248"
      ]
     },
     "execution_count": 31,
     "metadata": {},
     "output_type": "execute_result"
    }
   ],
   "source": [
    "lr_lasso = Lasso()\n",
    "lr_lasso.fit(X_train, y_train)\n",
    "y_predict = lr_lasso.predict(X_test)\n",
    "mean_absolute_error(y_test, y_predict)"
   ]
  },
  {
   "cell_type": "code",
   "execution_count": 32,
   "metadata": {},
   "outputs": [
    {
     "data": {
      "text/plain": [
       "0.8140749697533981"
      ]
     },
     "execution_count": 32,
     "metadata": {},
     "output_type": "execute_result"
    }
   ],
   "source": [
    "r2_score(y_test, y_predict)"
   ]
  },
  {
   "cell_type": "code",
   "execution_count": 33,
   "metadata": {},
   "outputs": [],
   "source": [
    "results.loc['lr_lasso', 'mae'] = mean_absolute_error(y_test, y_predict)\n",
    "results.loc['lr_lasso', 'r2_score'] = r2_score(y_test, y_predict)"
   ]
  },
  {
   "cell_type": "code",
   "execution_count": 34,
   "metadata": {},
   "outputs": [],
   "source": [
    "features = pd.Series(lr_lasso.coef_, index=feats.columns.values)"
   ]
  },
  {
   "cell_type": "code",
   "execution_count": 35,
   "metadata": {},
   "outputs": [
    {
     "data": {
      "text/plain": [
       "gii_patent_families                      3.349284\n",
       "gii_research_talent_in_business          1.664069\n",
       "broadband_subscriptions_per100           1.263226\n",
       "gii_university_industry                  1.227880\n",
       "secure_internet_servers                  1.166649\n",
       "gii_top_level_domains                    0.989628\n",
       "gii_wikipedia_edits                      0.968449\n",
       "gii_institutions                         0.832242\n",
       "gii_ict_services_imports                 0.340004\n",
       "gii_creative_goods                       0.146993\n",
       "gii_human_capital                        0.095480\n",
       "rd_in_gdp                                0.000000\n",
       "gii_scientific_publications              0.000000\n",
       "electrification                          0.000000\n",
       "diversity_ethnicFractionalization       -0.000000\n",
       "diversity_religiousFractionalization     0.000000\n",
       "diversity_linguisticFractionalization    0.000000\n",
       "school_enrollment_tertiary               0.000000\n",
       "mobile_subscriptions                    -0.000000\n",
       "gii_domestic_credit                      0.000000\n",
       "rural_population                         0.000000\n",
       "happiness_index                          0.000000\n",
       "gii_creative_services                    0.000000\n",
       "gii_rule_of_law                          0.000000\n",
       "population                               0.000000\n",
       "gdp_per_capta_usd                        0.000000\n",
       "gii_patent_applications                  0.000000\n",
       "feature_films_produced                   0.000000\n",
       "gii_mobile_apps                          0.000000\n",
       "life_expectancy                          0.000000\n",
       "gii_ict_access                           0.000000\n",
       "foreign_investment                      -0.000000\n",
       "mortality_rate                          -0.012216\n",
       "ease_of_business                        -0.322155\n",
       "dtype: float64"
      ]
     },
     "execution_count": 35,
     "metadata": {},
     "output_type": "execute_result"
    }
   ],
   "source": [
    "features.sort_values(ascending=False)"
   ]
  },
  {
   "cell_type": "markdown",
   "metadata": {},
   "source": [
    "### Linear Regression using RFECV"
   ]
  },
  {
   "cell_type": "code",
   "execution_count": 36,
   "metadata": {},
   "outputs": [
    {
     "name": "stderr",
     "output_type": "stream",
     "text": [
      "/Users/ricardostamato/miniconda3/envs/ml/lib/python3.7/site-packages/sklearn/utils/validation.py:760: DataConversionWarning: A column-vector y was passed when a 1d array was expected. Please change the shape of y to (n_samples, ), for example using ravel().\n",
      "  y = column_or_1d(y, warn=True)\n"
     ]
    },
    {
     "name": "stdout",
     "output_type": "stream",
     "text": [
      "Optimal number of features : 3\n"
     ]
    },
    {
     "data": {
      "image/png": "[encoded data removed]",
      "text/plain": [
       "<Figure size 432x288 with 1 Axes>"
      ]
     },
     "metadata": {
      "needs_background": "light"
     },
     "output_type": "display_data"
    }
   ],
   "source": [
    "import matplotlib.pyplot as plt\n",
    "from sklearn.model_selection import StratifiedKFold\n",
    "from sklearn.feature_selection import RFECV\n",
    "X = feats_scaled\n",
    "y = target\n",
    "lr_rfecv = LinearRegression()\n",
    "rfecv = RFECV(estimator=lr_rfecv, step=1, scoring='r2')\n",
    "rfecv.fit(X, y)\n",
    "\n",
    "print(\"Optimal number of features : %d\" % rfecv.n_features_)\n",
    "\n",
    "# Plot number of features VS. cross-validation scores\n",
    "plt.figure()\n",
    "plt.xlabel(\"Number of features selected\")\n",
    "plt.ylabel(\"Cross validation score (nb of correct classifications)\")\n",
    "plt.plot(range(1, len(rfecv.grid_scores_) + 1), rfecv.grid_scores_)\n",
    "plt.show()"
   ]
  },
  {
   "cell_type": "code",
   "execution_count": 37,
   "metadata": {},
   "outputs": [
    {
     "data": {
      "text/plain": [
       "array([ 0.4841935 ,  0.60072269,  0.69621736,  0.66885298,  0.67897181,\n",
       "        0.58776114,  0.53624628,  0.4300599 ,  0.40804527,  0.3260323 ,\n",
       "        0.14342698,  0.15683298,  0.02085164,  0.13057986,  0.19574907,\n",
       "        0.25045257, -0.04545743, -0.32874102, -0.76140921, -1.09068439,\n",
       "       -1.0530136 , -0.79142387, -0.91659635, -0.96169763, -1.2468117 ,\n",
       "       -1.47876698, -1.48325335, -1.48290267, -1.49286952, -1.47995787,\n",
       "       -1.4335049 , -1.41718619, -1.29360443, -1.29194221])"
      ]
     },
     "execution_count": 37,
     "metadata": {},
     "output_type": "execute_result"
    }
   ],
   "source": [
    "rfecv.grid_scores_"
   ]
  },
  {
   "cell_type": "markdown",
   "metadata": {},
   "source": [
    "### Linear Regression using RFE (recursive feature elimination)"
   ]
  },
  {
   "cell_type": "code",
   "execution_count": 38,
   "metadata": {},
   "outputs": [
    {
     "name": "stdout",
     "output_type": "stream",
     "text": [
      "[ True  True False  True  True False False  True False False  True  True\n",
      " False False False  True False  True False  True  True  True  True False\n",
      "  True  True False False  True False False  True False False]\n",
      "[ 1  1 16  1  1 12 18  1  4  3  1  1 11  9 15  1 10  1 14  1  1  1  1  6\n",
      "  1  1  8 17  1  2  7  1 13  5]\n"
     ]
    },
    {
     "name": "stderr",
     "output_type": "stream",
     "text": [
      "/Users/ricardostamato/miniconda3/envs/ml/lib/python3.7/site-packages/sklearn/utils/validation.py:760: DataConversionWarning: A column-vector y was passed when a 1d array was expected. Please change the shape of y to (n_samples, ), for example using ravel().\n",
      "  y = column_or_1d(y, warn=True)\n"
     ]
    }
   ],
   "source": [
    "X = feats_scaled\n",
    "y = target\n",
    "lr_rfe = LinearRegression()\n",
    "#Initializing RFE model\n",
    "rfe = RFE(lr_rfe)\n",
    "#Transforming data using RFE\n",
    "X_rfe = rfe.fit_transform(X,y)  \n",
    "#Fitting the data to model\n",
    "lr_rfe.fit(X_rfe,y)\n",
    "print(rfe.support_)\n",
    "print(rfe.ranking_)"
   ]
  },
  {
   "cell_type": "code",
   "execution_count": 39,
   "metadata": {},
   "outputs": [
    {
     "name": "stderr",
     "output_type": "stream",
     "text": [
      "/Users/ricardostamato/miniconda3/envs/ml/lib/python3.7/site-packages/sklearn/utils/validation.py:760: DataConversionWarning: A column-vector y was passed when a 1d array was expected. Please change the shape of y to (n_samples, ), for example using ravel().\n",
      "  y = column_or_1d(y, warn=True)\n",
      "/Users/ricardostamato/miniconda3/envs/ml/lib/python3.7/site-packages/sklearn/utils/validation.py:760: DataConversionWarning: A column-vector y was passed when a 1d array was expected. Please change the shape of y to (n_samples, ), for example using ravel().\n",
      "  y = column_or_1d(y, warn=True)\n",
      "/Users/ricardostamato/miniconda3/envs/ml/lib/python3.7/site-packages/sklearn/utils/validation.py:760: DataConversionWarning: A column-vector y was passed when a 1d array was expected. Please change the shape of y to (n_samples, ), for example using ravel().\n",
      "  y = column_or_1d(y, warn=True)\n",
      "/Users/ricardostamato/miniconda3/envs/ml/lib/python3.7/site-packages/sklearn/utils/validation.py:760: DataConversionWarning: A column-vector y was passed when a 1d array was expected. Please change the shape of y to (n_samples, ), for example using ravel().\n",
      "  y = column_or_1d(y, warn=True)\n",
      "/Users/ricardostamato/miniconda3/envs/ml/lib/python3.7/site-packages/sklearn/utils/validation.py:760: DataConversionWarning: A column-vector y was passed when a 1d array was expected. Please change the shape of y to (n_samples, ), for example using ravel().\n",
      "  y = column_or_1d(y, warn=True)\n",
      "/Users/ricardostamato/miniconda3/envs/ml/lib/python3.7/site-packages/sklearn/utils/validation.py:760: DataConversionWarning: A column-vector y was passed when a 1d array was expected. Please change the shape of y to (n_samples, ), for example using ravel().\n",
      "  y = column_or_1d(y, warn=True)\n",
      "/Users/ricardostamato/miniconda3/envs/ml/lib/python3.7/site-packages/sklearn/utils/validation.py:760: DataConversionWarning: A column-vector y was passed when a 1d array was expected. Please change the shape of y to (n_samples, ), for example using ravel().\n",
      "  y = column_or_1d(y, warn=True)\n",
      "/Users/ricardostamato/miniconda3/envs/ml/lib/python3.7/site-packages/sklearn/utils/validation.py:760: DataConversionWarning: A column-vector y was passed when a 1d array was expected. Please change the shape of y to (n_samples, ), for example using ravel().\n",
      "  y = column_or_1d(y, warn=True)\n",
      "/Users/ricardostamato/miniconda3/envs/ml/lib/python3.7/site-packages/sklearn/utils/validation.py:760: DataConversionWarning: A column-vector y was passed when a 1d array was expected. Please change the shape of y to (n_samples, ), for example using ravel().\n",
      "  y = column_or_1d(y, warn=True)\n",
      "/Users/ricardostamato/miniconda3/envs/ml/lib/python3.7/site-packages/sklearn/utils/validation.py:760: DataConversionWarning: A column-vector y was passed when a 1d array was expected. Please change the shape of y to (n_samples, ), for example using ravel().\n",
      "  y = column_or_1d(y, warn=True)\n",
      "/Users/ricardostamato/miniconda3/envs/ml/lib/python3.7/site-packages/sklearn/utils/validation.py:760: DataConversionWarning: A column-vector y was passed when a 1d array was expected. Please change the shape of y to (n_samples, ), for example using ravel().\n",
      "  y = column_or_1d(y, warn=True)\n",
      "/Users/ricardostamato/miniconda3/envs/ml/lib/python3.7/site-packages/sklearn/utils/validation.py:760: DataConversionWarning: A column-vector y was passed when a 1d array was expected. Please change the shape of y to (n_samples, ), for example using ravel().\n",
      "  y = column_or_1d(y, warn=True)\n",
      "/Users/ricardostamato/miniconda3/envs/ml/lib/python3.7/site-packages/sklearn/utils/validation.py:760: DataConversionWarning: A column-vector y was passed when a 1d array was expected. Please change the shape of y to (n_samples, ), for example using ravel().\n",
      "  y = column_or_1d(y, warn=True)\n",
      "/Users/ricardostamato/miniconda3/envs/ml/lib/python3.7/site-packages/sklearn/utils/validation.py:760: DataConversionWarning: A column-vector y was passed when a 1d array was expected. Please change the shape of y to (n_samples, ), for example using ravel().\n",
      "  y = column_or_1d(y, warn=True)\n",
      "/Users/ricardostamato/miniconda3/envs/ml/lib/python3.7/site-packages/sklearn/utils/validation.py:760: DataConversionWarning: A column-vector y was passed when a 1d array was expected. Please change the shape of y to (n_samples, ), for example using ravel().\n",
      "  y = column_or_1d(y, warn=True)\n",
      "/Users/ricardostamato/miniconda3/envs/ml/lib/python3.7/site-packages/sklearn/utils/validation.py:760: DataConversionWarning: A column-vector y was passed when a 1d array was expected. Please change the shape of y to (n_samples, ), for example using ravel().\n",
      "  y = column_or_1d(y, warn=True)\n",
      "/Users/ricardostamato/miniconda3/envs/ml/lib/python3.7/site-packages/sklearn/utils/validation.py:760: DataConversionWarning: A column-vector y was passed when a 1d array was expected. Please change the shape of y to (n_samples, ), for example using ravel().\n",
      "  y = column_or_1d(y, warn=True)\n",
      "/Users/ricardostamato/miniconda3/envs/ml/lib/python3.7/site-packages/sklearn/utils/validation.py:760: DataConversionWarning: A column-vector y was passed when a 1d array was expected. Please change the shape of y to (n_samples, ), for example using ravel().\n",
      "  y = column_or_1d(y, warn=True)\n",
      "/Users/ricardostamato/miniconda3/envs/ml/lib/python3.7/site-packages/sklearn/utils/validation.py:760: DataConversionWarning: A column-vector y was passed when a 1d array was expected. Please change the shape of y to (n_samples, ), for example using ravel().\n",
      "  y = column_or_1d(y, warn=True)\n",
      "/Users/ricardostamato/miniconda3/envs/ml/lib/python3.7/site-packages/sklearn/utils/validation.py:760: DataConversionWarning: A column-vector y was passed when a 1d array was expected. Please change the shape of y to (n_samples, ), for example using ravel().\n",
      "  y = column_or_1d(y, warn=True)\n",
      "/Users/ricardostamato/miniconda3/envs/ml/lib/python3.7/site-packages/sklearn/utils/validation.py:760: DataConversionWarning: A column-vector y was passed when a 1d array was expected. Please change the shape of y to (n_samples, ), for example using ravel().\n",
      "  y = column_or_1d(y, warn=True)\n",
      "/Users/ricardostamato/miniconda3/envs/ml/lib/python3.7/site-packages/sklearn/utils/validation.py:760: DataConversionWarning: A column-vector y was passed when a 1d array was expected. Please change the shape of y to (n_samples, ), for example using ravel().\n",
      "  y = column_or_1d(y, warn=True)\n",
      "/Users/ricardostamato/miniconda3/envs/ml/lib/python3.7/site-packages/sklearn/utils/validation.py:760: DataConversionWarning: A column-vector y was passed when a 1d array was expected. Please change the shape of y to (n_samples, ), for example using ravel().\n",
      "  y = column_or_1d(y, warn=True)\n"
     ]
    },
    {
     "name": "stdout",
     "output_type": "stream",
     "text": [
      "Optimum number of features: 2\n",
      "Score with 2 features: 0.856095\n"
     ]
    },
    {
     "name": "stderr",
     "output_type": "stream",
     "text": [
      "/Users/ricardostamato/miniconda3/envs/ml/lib/python3.7/site-packages/sklearn/utils/validation.py:760: DataConversionWarning: A column-vector y was passed when a 1d array was expected. Please change the shape of y to (n_samples, ), for example using ravel().\n",
      "  y = column_or_1d(y, warn=True)\n",
      "/Users/ricardostamato/miniconda3/envs/ml/lib/python3.7/site-packages/sklearn/utils/validation.py:760: DataConversionWarning: A column-vector y was passed when a 1d array was expected. Please change the shape of y to (n_samples, ), for example using ravel().\n",
      "  y = column_or_1d(y, warn=True)\n",
      "/Users/ricardostamato/miniconda3/envs/ml/lib/python3.7/site-packages/sklearn/utils/validation.py:760: DataConversionWarning: A column-vector y was passed when a 1d array was expected. Please change the shape of y to (n_samples, ), for example using ravel().\n",
      "  y = column_or_1d(y, warn=True)\n",
      "/Users/ricardostamato/miniconda3/envs/ml/lib/python3.7/site-packages/sklearn/utils/validation.py:760: DataConversionWarning: A column-vector y was passed when a 1d array was expected. Please change the shape of y to (n_samples, ), for example using ravel().\n",
      "  y = column_or_1d(y, warn=True)\n",
      "/Users/ricardostamato/miniconda3/envs/ml/lib/python3.7/site-packages/sklearn/utils/validation.py:760: DataConversionWarning: A column-vector y was passed when a 1d array was expected. Please change the shape of y to (n_samples, ), for example using ravel().\n",
      "  y = column_or_1d(y, warn=True)\n",
      "/Users/ricardostamato/miniconda3/envs/ml/lib/python3.7/site-packages/sklearn/utils/validation.py:760: DataConversionWarning: A column-vector y was passed when a 1d array was expected. Please change the shape of y to (n_samples, ), for example using ravel().\n",
      "  y = column_or_1d(y, warn=True)\n",
      "/Users/ricardostamato/miniconda3/envs/ml/lib/python3.7/site-packages/sklearn/utils/validation.py:760: DataConversionWarning: A column-vector y was passed when a 1d array was expected. Please change the shape of y to (n_samples, ), for example using ravel().\n",
      "  y = column_or_1d(y, warn=True)\n",
      "/Users/ricardostamato/miniconda3/envs/ml/lib/python3.7/site-packages/sklearn/utils/validation.py:760: DataConversionWarning: A column-vector y was passed when a 1d array was expected. Please change the shape of y to (n_samples, ), for example using ravel().\n",
      "  y = column_or_1d(y, warn=True)\n",
      "/Users/ricardostamato/miniconda3/envs/ml/lib/python3.7/site-packages/sklearn/utils/validation.py:760: DataConversionWarning: A column-vector y was passed when a 1d array was expected. Please change the shape of y to (n_samples, ), for example using ravel().\n",
      "  y = column_or_1d(y, warn=True)\n",
      "/Users/ricardostamato/miniconda3/envs/ml/lib/python3.7/site-packages/sklearn/utils/validation.py:760: DataConversionWarning: A column-vector y was passed when a 1d array was expected. Please change the shape of y to (n_samples, ), for example using ravel().\n",
      "  y = column_or_1d(y, warn=True)\n"
     ]
    }
   ],
   "source": [
    "#no of features\n",
    "nof_list=np.arange(1,len(feats.columns.values))            \n",
    "high_score=0\n",
    "#Variable to store the optimum features\n",
    "nof=0           \n",
    "score_list =[]\n",
    "for n in range(len(nof_list)):\n",
    "    X_train, X_test, y_train, y_test = train_test_split(X,y, test_size = 0.3, random_state = 0)\n",
    "    model = LinearRegression()\n",
    "    rfe = RFE(lr_rfe,nof_list[n])\n",
    "    X_train_rfe = rfe.fit_transform(X_train,y_train)\n",
    "    X_test_rfe = rfe.transform(X_test)\n",
    "    lr_rfe.fit(X_train_rfe,y_train)\n",
    "    score = lr_rfe.score(X_test_rfe,y_test)\n",
    "    score_list.append(score)\n",
    "    if(score>high_score):\n",
    "        high_score = score\n",
    "        nof = nof_list[n]\n",
    "print(\"Optimum number of features: %d\" %nof)\n",
    "print(\"Score with %d features: %f\" % (nof, high_score))"
   ]
  },
  {
   "cell_type": "code",
   "execution_count": 40,
   "metadata": {},
   "outputs": [
    {
     "name": "stdout",
     "output_type": "stream",
     "text": [
      "Index(['broadband_subscriptions_per100', 'gii_patent_families'], dtype='object')\n"
     ]
    },
    {
     "name": "stderr",
     "output_type": "stream",
     "text": [
      "/Users/ricardostamato/miniconda3/envs/ml/lib/python3.7/site-packages/sklearn/utils/validation.py:760: DataConversionWarning: A column-vector y was passed when a 1d array was expected. Please change the shape of y to (n_samples, ), for example using ravel().\n",
      "  y = column_or_1d(y, warn=True)\n"
     ]
    }
   ],
   "source": [
    "cols = list(feats.columns)\n",
    "lr_rfe_final = LinearRegression()\n",
    "#Initializing RFE model\n",
    "rfe = RFE(lr_rfe_final, 2)             \n",
    "#Transforming data using RFE\n",
    "X_rfe = rfe.fit_transform(X,y)  \n",
    "#Fitting the data to model\n",
    "lr_rfe_final.fit(X_rfe,y)              \n",
    "temp = pd.Series(rfe.support_,index = cols)\n",
    "selected_features_rfe = temp[temp==True].index\n",
    "print(selected_features_rfe)"
   ]
  },
  {
   "cell_type": "code",
   "execution_count": 41,
   "metadata": {},
   "outputs": [
    {
     "data": {
      "text/plain": [
       "array([[4.7564479 , 6.57747839]])"
      ]
     },
     "execution_count": 41,
     "metadata": {},
     "output_type": "execute_result"
    }
   ],
   "source": [
    "lr_rfe_final.coef_"
   ]
  },
  {
   "cell_type": "code",
   "execution_count": 42,
   "metadata": {},
   "outputs": [
    {
     "data": {
      "text/plain": [
       "array([False, False, False,  True, False, False, False, False, False,\n",
       "       False, False, False, False, False, False, False, False, False,\n",
       "       False, False, False, False,  True, False, False, False, False,\n",
       "       False, False, False, False, False, False, False])"
      ]
     },
     "execution_count": 42,
     "metadata": {},
     "output_type": "execute_result"
    }
   ],
   "source": [
    "rfe.support_"
   ]
  },
  {
   "cell_type": "code",
   "execution_count": 43,
   "metadata": {},
   "outputs": [
    {
     "data": {
      "text/plain": [
       "gii_patent_families               6.577478\n",
       "broadband_subscriptions_per100    4.756448\n",
       "dtype: float64"
      ]
     },
     "execution_count": 43,
     "metadata": {},
     "output_type": "execute_result"
    }
   ],
   "source": [
    "pd.Series(lr_rfe_final.coef_[0], index=selected_features_rfe).apply(abs).sort_values(ascending=False)"
   ]
  },
  {
   "cell_type": "code",
   "execution_count": 44,
   "metadata": {},
   "outputs": [
    {
     "data": {
      "text/plain": [
       "Index(['broadband_subscriptions_per100', 'gii_patent_families'], dtype='object')"
      ]
     },
     "execution_count": 44,
     "metadata": {},
     "output_type": "execute_result"
    }
   ],
   "source": [
    "selected_features_rfe"
   ]
  },
  {
   "cell_type": "code",
   "execution_count": 45,
   "metadata": {},
   "outputs": [],
   "source": [
    "predict = lr_rfe_final.predict(pd.DataFrame(X, columns=feats.columns)[selected_features_rfe])"
   ]
  },
  {
   "cell_type": "code",
   "execution_count": 46,
   "metadata": {},
   "outputs": [
    {
     "data": {
      "text/plain": [
       "3.7598137187415595"
      ]
     },
     "execution_count": 46,
     "metadata": {},
     "output_type": "execute_result"
    }
   ],
   "source": [
    "mean_absolute_error(y, predict)"
   ]
  },
  {
   "cell_type": "code",
   "execution_count": 47,
   "metadata": {},
   "outputs": [],
   "source": [
    "predict_test = lr_rfe_final.predict(pd.DataFrame(X_test, columns=feats.columns)[selected_features_rfe])"
   ]
  },
  {
   "cell_type": "code",
   "execution_count": 48,
   "metadata": {},
   "outputs": [
    {
     "data": {
      "text/plain": [
       "3.4615425060876475"
      ]
     },
     "execution_count": 48,
     "metadata": {},
     "output_type": "execute_result"
    }
   ],
   "source": [
    "mean_absolute_error(y_test, predict_test)"
   ]
  },
  {
   "cell_type": "code",
   "execution_count": 49,
   "metadata": {},
   "outputs": [
    {
     "data": {
      "text/plain": [
       "0.8588715527447703"
      ]
     },
     "execution_count": 49,
     "metadata": {},
     "output_type": "execute_result"
    }
   ],
   "source": [
    "r2_score(y_test, predict_test)"
   ]
  },
  {
   "cell_type": "code",
   "execution_count": 50,
   "metadata": {},
   "outputs": [],
   "source": [
    "results.loc['lr_rfe', 'mae'] = mean_absolute_error(y_test, predict_test)\n",
    "results.loc['lr_rfe', 'r2_score'] = r2_score(y_test, predict_test)"
   ]
  },
  {
   "cell_type": "markdown",
   "metadata": {},
   "source": [
    "### Selecting best model"
   ]
  },
  {
   "cell_type": "code",
   "execution_count": 51,
   "metadata": {},
   "outputs": [
    {
     "data": {
      "text/html": [
       "<div>\n",
       "<style scoped>\n",
       "    .dataframe tbody tr th:only-of-type {\n",
       "        vertical-align: middle;\n",
       "    }\n",
       "\n",
       "    .dataframe tbody tr th {\n",
       "        vertical-align: top;\n",
       "    }\n",
       "\n",
       "    .dataframe thead th {\n",
       "        text-align: right;\n",
       "    }\n",
       "</style>\n",
       "<table border=\"1\" class=\"dataframe\">\n",
       "  <thead>\n",
       "    <tr style=\"text-align: right;\">\n",
       "      <th></th>\n",
       "      <th>mae</th>\n",
       "      <th>r2_score</th>\n",
       "    </tr>\n",
       "  </thead>\n",
       "  <tbody>\n",
       "    <tr>\n",
       "      <td>random_forest</td>\n",
       "      <td>3.947963</td>\n",
       "      <td>0.711394</td>\n",
       "    </tr>\n",
       "    <tr>\n",
       "      <td>lr</td>\n",
       "      <td>5.615887</td>\n",
       "      <td>0.320886</td>\n",
       "    </tr>\n",
       "    <tr>\n",
       "      <td>lr_lasso</td>\n",
       "      <td>3.164182</td>\n",
       "      <td>0.814075</td>\n",
       "    </tr>\n",
       "    <tr>\n",
       "      <td>lr_rfe</td>\n",
       "      <td>3.461543</td>\n",
       "      <td>0.858872</td>\n",
       "    </tr>\n",
       "  </tbody>\n",
       "</table>\n",
       "</div>"
      ],
      "text/plain": [
       "                    mae  r2_score\n",
       "random_forest  3.947963  0.711394\n",
       "lr             5.615887  0.320886\n",
       "lr_lasso       3.164182  0.814075\n",
       "lr_rfe         3.461543  0.858872"
      ]
     },
     "execution_count": 51,
     "metadata": {},
     "output_type": "execute_result"
    }
   ],
   "source": [
    "results"
   ]
  },
  {
   "cell_type": "markdown",
   "metadata": {},
   "source": [
    "Our two best performing models are the Lasso linear model and the linear regression using RFE. Let's take a look at the used features and its coefficients for the first one:"
   ]
  },
  {
   "cell_type": "code",
   "execution_count": 73,
   "metadata": {},
   "outputs": [
    {
     "data": {
      "text/plain": [
       "gii_patent_families                3.349284\n",
       "gii_research_talent_in_business    1.664069\n",
       "broadband_subscriptions_per100     1.263226\n",
       "gii_university_industry            1.227880\n",
       "secure_internet_servers            1.166649\n",
       "gii_top_level_domains              0.989628\n",
       "gii_wikipedia_edits                0.968449\n",
       "gii_institutions                   0.832242\n",
       "gii_ict_services_imports           0.340004\n",
       "gii_creative_goods                 0.146993\n",
       "gii_human_capital                  0.095480\n",
       "mortality_rate                    -0.012216\n",
       "ease_of_business                  -0.322155\n",
       "dtype: float64"
      ]
     },
     "execution_count": 73,
     "metadata": {},
     "output_type": "execute_result"
    }
   ],
   "source": [
    "coefs = pd.Series(lr_lasso.coef_, index=feats.columns)\n",
    "coefs.drop(coefs[coefs==0.0].index, inplace=True)\n",
    "coefs.sort_values(ascending=False)"
   ]
  },
  {
   "cell_type": "markdown",
   "metadata": {},
   "source": [
    "The only thing that can be highlighted here is that the ease of business has a negative effect on the innovation index. Besides that, the used features are a mix among creativity, economic and educational factors. Lets take a look at the second model, the linear regression using RFE:"
   ]
  },
  {
   "cell_type": "code",
   "execution_count": 75,
   "metadata": {},
   "outputs": [
    {
     "data": {
      "text/plain": [
       "gii_patent_families               6.577478\n",
       "broadband_subscriptions_per100    4.756448\n",
       "dtype: float64"
      ]
     },
     "execution_count": 75,
     "metadata": {},
     "output_type": "execute_result"
    }
   ],
   "source": [
    "coefs = pd.Series(lr_rfe_final.coef_[0], index=selected_features_rfe)\n",
    "coefs.drop(coefs[coefs==0.0].index, inplace=True)\n",
    "coefs.sort_values(ascending=False)"
   ]
  },
  {
   "cell_type": "markdown",
   "metadata": {},
   "source": [
    "That is surprising. The linear regression model was able to predict, with a reasonable accuracy, using only two factors: number of patent families and broadband subscriptions. Let's predict for all countries and check the differences:"
   ]
  },
  {
   "cell_type": "code",
   "execution_count": 94,
   "metadata": {},
   "outputs": [
    {
     "name": "stderr",
     "output_type": "stream",
     "text": [
      "/Users/ricardostamato/miniconda3/envs/ml/lib/python3.7/site-packages/ipykernel_launcher.py:3: SettingWithCopyWarning: \n",
      "A value is trying to be set on a copy of a slice from a DataFrame.\n",
      "Try using .loc[row_indexer,col_indexer] = value instead\n",
      "\n",
      "See the caveats in the documentation: http://pandas.pydata.org/pandas-docs/stable/user_guide/indexing.html#returning-a-view-versus-a-copy\n",
      "  This is separate from the ipykernel package so we can avoid doing imports until\n"
     ]
    }
   ],
   "source": [
    "df_prediction = df_sample[['country_iso', 'gii_innovation_output']]\n",
    "rfe_predict = lr_rfe_final.predict(X_rfe)\n",
    "df_prediction['rfe_prediction'] = rfe_predict"
   ]
  },
  {
   "cell_type": "code",
   "execution_count": 97,
   "metadata": {},
   "outputs": [
    {
     "name": "stderr",
     "output_type": "stream",
     "text": [
      "/Users/ricardostamato/miniconda3/envs/ml/lib/python3.7/site-packages/ipykernel_launcher.py:2: SettingWithCopyWarning: \n",
      "A value is trying to be set on a copy of a slice from a DataFrame.\n",
      "Try using .loc[row_indexer,col_indexer] = value instead\n",
      "\n",
      "See the caveats in the documentation: http://pandas.pydata.org/pandas-docs/stable/user_guide/indexing.html#returning-a-view-versus-a-copy\n",
      "  \n"
     ]
    }
   ],
   "source": [
    "lasso_predict = lr_lasso.predict(feats_scaled)\n",
    "df_prediction['lasso_prediction'] = lasso_predict"
   ]
  },
  {
   "cell_type": "code",
   "execution_count": 98,
   "metadata": {},
   "outputs": [
    {
     "data": {
      "text/plain": [
       "<matplotlib.axes._subplots.AxesSubplot at 0x1231bb2d0>"
      ]
     },
     "execution_count": 98,
     "metadata": {},
     "output_type": "execute_result"
    },
    {
     "data": {
      "image/png": "[encoded data removed]",
      "text/plain": [
       "<Figure size 432x288 with 1 Axes>"
      ]
     },
     "metadata": {
      "needs_background": "light"
     },
     "output_type": "display_data"
    }
   ],
   "source": [
    "df_prediction.plot.scatter('gii_innovation_output', 'rfe_prediction')"
   ]
  },
  {
   "cell_type": "code",
   "execution_count": 99,
   "metadata": {},
   "outputs": [
    {
     "data": {
      "text/plain": [
       "<matplotlib.axes._subplots.AxesSubplot at 0x123a4d8d0>"
      ]
     },
     "execution_count": 99,
     "metadata": {},
     "output_type": "execute_result"
    },
    {
     "data": {
      "image/png": "[encoded data removed]",
      "text/plain": [
       "<Figure size 432x288 with 1 Axes>"
      ]
     },
     "metadata": {
      "needs_background": "light"
     },
     "output_type": "display_data"
    }
   ],
   "source": [
    "df_prediction.plot.scatter('gii_innovation_output', 'lasso_prediction')"
   ]
  },
  {
   "cell_type": "code",
   "execution_count": 101,
   "metadata": {},
   "outputs": [],
   "source": [
    "df_prediction.to_csv('lr_predictions.csv')"
   ]
  },
  {
   "cell_type": "code",
   "execution_count": 102,
   "metadata": {},
   "outputs": [
    {
     "data": {
      "text/plain": [
       "2.805757839906855"
      ]
     },
     "execution_count": 102,
     "metadata": {},
     "output_type": "execute_result"
    }
   ],
   "source": [
    "mean_absolute_error(df_prediction.gii_innovation_output, df_prediction.lasso_prediction)"
   ]
  },
  {
   "cell_type": "code",
   "execution_count": 103,
   "metadata": {},
   "outputs": [
    {
     "data": {
      "text/plain": [
       "3.7598137187415595"
      ]
     },
     "execution_count": 103,
     "metadata": {},
     "output_type": "execute_result"
    }
   ],
   "source": [
    "mean_absolute_error(df_prediction.gii_innovation_output, df_prediction.rfe_prediction)"
   ]
  },
  {
   "cell_type": "markdown",
   "metadata": {},
   "source": [
    "Looking at the scatter plots and the final Mean Absolute Error (considering all countries), we can see that the first model, Lasso, performs a lot better."
   ]
  },
  {
   "cell_type": "code",
   "execution_count": 60,
   "metadata": {},
   "outputs": [],
   "source": [
    "df_prediction.to_csv('linear_regression.csv')"
   ]
  },
  {
   "cell_type": "markdown",
   "metadata": {},
   "source": [
    "## Conclusions"
   ]
  },
  {
   "cell_type": "markdown",
   "metadata": {},
   "source": [
    "We could find a linear regression model which could predict a country's innovation index with reasonable accuracy. However, the set of features used to predict does not show any special insight: they are a combination of economic, creativity and educational factors.\n",
    "\n",
    "It is possible to predict the index using a very smaller set of features, particularly the number of patent families and broadband subscriptions, but the prediction is less accurate than the one using a more, mixed factors."
   ]
  }
 ],
 "metadata": {
  "kernelspec": {
   "display_name": "Python 3",
   "language": "python",
   "name": "python3"
  },
  "language_info": {
   "codemirror_mode": {
    "name": "ipython",
    "version": 3
   },
   "file_extension": ".py",
   "mimetype": "text/x-python",
   "name": "python",
   "nbconvert_exporter": "python",
   "pygments_lexer": "ipython3",
   "version": "3.7.6"
  }
 },
 "nbformat": 4,
 "nbformat_minor": 4
}
